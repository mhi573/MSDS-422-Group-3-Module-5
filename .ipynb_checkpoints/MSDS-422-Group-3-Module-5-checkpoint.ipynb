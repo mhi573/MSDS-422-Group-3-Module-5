{
 "cells": [
  {
   "cell_type": "markdown",
   "id": "809bcd14",
   "metadata": {},
   "source": [
    "## Appendix 1 - Python Code and Outputs"
   ]
  },
  {
   "cell_type": "markdown",
   "id": "f91c1ded",
   "metadata": {},
   "source": [
    "### Data Preparation"
   ]
  },
  {
   "cell_type": "code",
   "execution_count": 1,
   "id": "8bac3939",
   "metadata": {},
   "outputs": [],
   "source": [
    "from IPython.core.interactiveshell import InteractiveShell\n",
    "InteractiveShell.ast_node_interactivity = \"all\""
   ]
  },
  {
   "cell_type": "markdown",
   "id": "9c2a86ee",
   "metadata": {},
   "source": [
    "### Import Data"
   ]
  },
  {
   "cell_type": "code",
   "execution_count": 2,
   "id": "4ace289b",
   "metadata": {
    "scrolled": true
   },
   "outputs": [
    {
     "data": {
      "text/html": [
       "<div>\n",
       "<style scoped>\n",
       "    .dataframe tbody tr th:only-of-type {\n",
       "        vertical-align: middle;\n",
       "    }\n",
       "\n",
       "    .dataframe tbody tr th {\n",
       "        vertical-align: top;\n",
       "    }\n",
       "\n",
       "    .dataframe thead th {\n",
       "        text-align: right;\n",
       "    }\n",
       "</style>\n",
       "<table border=\"1\" class=\"dataframe\">\n",
       "  <thead>\n",
       "    <tr style=\"text-align: right;\">\n",
       "      <th></th>\n",
       "      <th>PassengerId</th>\n",
       "      <th>Survived</th>\n",
       "      <th>Pclass</th>\n",
       "      <th>Name</th>\n",
       "      <th>Sex</th>\n",
       "      <th>Age</th>\n",
       "      <th>SibSp</th>\n",
       "      <th>Parch</th>\n",
       "      <th>Ticket</th>\n",
       "      <th>Fare</th>\n",
       "      <th>Cabin</th>\n",
       "      <th>Embarked</th>\n",
       "    </tr>\n",
       "  </thead>\n",
       "  <tbody>\n",
       "    <tr>\n",
       "      <th>0</th>\n",
       "      <td>1</td>\n",
       "      <td>0</td>\n",
       "      <td>3</td>\n",
       "      <td>Braund, Mr. Owen Harris</td>\n",
       "      <td>male</td>\n",
       "      <td>22.0</td>\n",
       "      <td>1</td>\n",
       "      <td>0</td>\n",
       "      <td>A/5 21171</td>\n",
       "      <td>7.2500</td>\n",
       "      <td>NaN</td>\n",
       "      <td>S</td>\n",
       "    </tr>\n",
       "    <tr>\n",
       "      <th>1</th>\n",
       "      <td>2</td>\n",
       "      <td>1</td>\n",
       "      <td>1</td>\n",
       "      <td>Cumings, Mrs. John Bradley (Florence Briggs Th...</td>\n",
       "      <td>female</td>\n",
       "      <td>38.0</td>\n",
       "      <td>1</td>\n",
       "      <td>0</td>\n",
       "      <td>PC 17599</td>\n",
       "      <td>71.2833</td>\n",
       "      <td>C85</td>\n",
       "      <td>C</td>\n",
       "    </tr>\n",
       "    <tr>\n",
       "      <th>2</th>\n",
       "      <td>3</td>\n",
       "      <td>1</td>\n",
       "      <td>3</td>\n",
       "      <td>Heikkinen, Miss. Laina</td>\n",
       "      <td>female</td>\n",
       "      <td>26.0</td>\n",
       "      <td>0</td>\n",
       "      <td>0</td>\n",
       "      <td>STON/O2. 3101282</td>\n",
       "      <td>7.9250</td>\n",
       "      <td>NaN</td>\n",
       "      <td>S</td>\n",
       "    </tr>\n",
       "    <tr>\n",
       "      <th>3</th>\n",
       "      <td>4</td>\n",
       "      <td>1</td>\n",
       "      <td>1</td>\n",
       "      <td>Futrelle, Mrs. Jacques Heath (Lily May Peel)</td>\n",
       "      <td>female</td>\n",
       "      <td>35.0</td>\n",
       "      <td>1</td>\n",
       "      <td>0</td>\n",
       "      <td>113803</td>\n",
       "      <td>53.1000</td>\n",
       "      <td>C123</td>\n",
       "      <td>S</td>\n",
       "    </tr>\n",
       "    <tr>\n",
       "      <th>4</th>\n",
       "      <td>5</td>\n",
       "      <td>0</td>\n",
       "      <td>3</td>\n",
       "      <td>Allen, Mr. William Henry</td>\n",
       "      <td>male</td>\n",
       "      <td>35.0</td>\n",
       "      <td>0</td>\n",
       "      <td>0</td>\n",
       "      <td>373450</td>\n",
       "      <td>8.0500</td>\n",
       "      <td>NaN</td>\n",
       "      <td>S</td>\n",
       "    </tr>\n",
       "    <tr>\n",
       "      <th>...</th>\n",
       "      <td>...</td>\n",
       "      <td>...</td>\n",
       "      <td>...</td>\n",
       "      <td>...</td>\n",
       "      <td>...</td>\n",
       "      <td>...</td>\n",
       "      <td>...</td>\n",
       "      <td>...</td>\n",
       "      <td>...</td>\n",
       "      <td>...</td>\n",
       "      <td>...</td>\n",
       "      <td>...</td>\n",
       "    </tr>\n",
       "    <tr>\n",
       "      <th>95</th>\n",
       "      <td>96</td>\n",
       "      <td>0</td>\n",
       "      <td>3</td>\n",
       "      <td>Shorney, Mr. Charles Joseph</td>\n",
       "      <td>male</td>\n",
       "      <td>NaN</td>\n",
       "      <td>0</td>\n",
       "      <td>0</td>\n",
       "      <td>374910</td>\n",
       "      <td>8.0500</td>\n",
       "      <td>NaN</td>\n",
       "      <td>S</td>\n",
       "    </tr>\n",
       "    <tr>\n",
       "      <th>96</th>\n",
       "      <td>97</td>\n",
       "      <td>0</td>\n",
       "      <td>1</td>\n",
       "      <td>Goldschmidt, Mr. George B</td>\n",
       "      <td>male</td>\n",
       "      <td>71.0</td>\n",
       "      <td>0</td>\n",
       "      <td>0</td>\n",
       "      <td>PC 17754</td>\n",
       "      <td>34.6542</td>\n",
       "      <td>A5</td>\n",
       "      <td>C</td>\n",
       "    </tr>\n",
       "    <tr>\n",
       "      <th>97</th>\n",
       "      <td>98</td>\n",
       "      <td>1</td>\n",
       "      <td>1</td>\n",
       "      <td>Greenfield, Mr. William Bertram</td>\n",
       "      <td>male</td>\n",
       "      <td>23.0</td>\n",
       "      <td>0</td>\n",
       "      <td>1</td>\n",
       "      <td>PC 17759</td>\n",
       "      <td>63.3583</td>\n",
       "      <td>D10 D12</td>\n",
       "      <td>C</td>\n",
       "    </tr>\n",
       "    <tr>\n",
       "      <th>98</th>\n",
       "      <td>99</td>\n",
       "      <td>1</td>\n",
       "      <td>2</td>\n",
       "      <td>Doling, Mrs. John T (Ada Julia Bone)</td>\n",
       "      <td>female</td>\n",
       "      <td>34.0</td>\n",
       "      <td>0</td>\n",
       "      <td>1</td>\n",
       "      <td>231919</td>\n",
       "      <td>23.0000</td>\n",
       "      <td>NaN</td>\n",
       "      <td>S</td>\n",
       "    </tr>\n",
       "    <tr>\n",
       "      <th>99</th>\n",
       "      <td>100</td>\n",
       "      <td>0</td>\n",
       "      <td>2</td>\n",
       "      <td>Kantor, Mr. Sinai</td>\n",
       "      <td>male</td>\n",
       "      <td>34.0</td>\n",
       "      <td>1</td>\n",
       "      <td>0</td>\n",
       "      <td>244367</td>\n",
       "      <td>26.0000</td>\n",
       "      <td>NaN</td>\n",
       "      <td>S</td>\n",
       "    </tr>\n",
       "  </tbody>\n",
       "</table>\n",
       "<p>100 rows × 12 columns</p>\n",
       "</div>"
      ],
      "text/plain": [
       "    PassengerId  Survived  Pclass  \\\n",
       "0             1         0       3   \n",
       "1             2         1       1   \n",
       "2             3         1       3   \n",
       "3             4         1       1   \n",
       "4             5         0       3   \n",
       "..          ...       ...     ...   \n",
       "95           96         0       3   \n",
       "96           97         0       1   \n",
       "97           98         1       1   \n",
       "98           99         1       2   \n",
       "99          100         0       2   \n",
       "\n",
       "                                                 Name     Sex   Age  SibSp  \\\n",
       "0                             Braund, Mr. Owen Harris    male  22.0      1   \n",
       "1   Cumings, Mrs. John Bradley (Florence Briggs Th...  female  38.0      1   \n",
       "2                              Heikkinen, Miss. Laina  female  26.0      0   \n",
       "3        Futrelle, Mrs. Jacques Heath (Lily May Peel)  female  35.0      1   \n",
       "4                            Allen, Mr. William Henry    male  35.0      0   \n",
       "..                                                ...     ...   ...    ...   \n",
       "95                        Shorney, Mr. Charles Joseph    male   NaN      0   \n",
       "96                          Goldschmidt, Mr. George B    male  71.0      0   \n",
       "97                    Greenfield, Mr. William Bertram    male  23.0      0   \n",
       "98               Doling, Mrs. John T (Ada Julia Bone)  female  34.0      0   \n",
       "99                                  Kantor, Mr. Sinai    male  34.0      1   \n",
       "\n",
       "    Parch            Ticket     Fare    Cabin Embarked  \n",
       "0       0         A/5 21171   7.2500      NaN        S  \n",
       "1       0          PC 17599  71.2833      C85        C  \n",
       "2       0  STON/O2. 3101282   7.9250      NaN        S  \n",
       "3       0            113803  53.1000     C123        S  \n",
       "4       0            373450   8.0500      NaN        S  \n",
       "..    ...               ...      ...      ...      ...  \n",
       "95      0            374910   8.0500      NaN        S  \n",
       "96      0          PC 17754  34.6542       A5        C  \n",
       "97      1          PC 17759  63.3583  D10 D12        C  \n",
       "98      1            231919  23.0000      NaN        S  \n",
       "99      0            244367  26.0000      NaN        S  \n",
       "\n",
       "[100 rows x 12 columns]"
      ]
     },
     "execution_count": 2,
     "metadata": {},
     "output_type": "execute_result"
    },
    {
     "data": {
      "text/plain": [
       "(891, 12)"
      ]
     },
     "execution_count": 2,
     "metadata": {},
     "output_type": "execute_result"
    }
   ],
   "source": [
    "import pandas as pd\n",
    "titanic_training_data = pd.read_csv('train.csv')\n",
    "\n",
    "# show first five rows of the data\n",
    "titanic_training_data.head(100)\n",
    "# show number of columns and rows\n",
    "titanic_training_data.shape"
   ]
  },
  {
   "cell_type": "markdown",
   "id": "f718d695",
   "metadata": {},
   "source": [
    "#### Variable Key Guide:\n",
    "\n",
    "| Variable name | Variable label | Variable value and value label | Variable type |\n",
    "| :-: | :-: | :-: | :-: |\n",
    "| PassengerID | Passenger ID | | Numerical |\n",
    "| Survived | Did the passenger survive? | 0 = No, 1 = Yes | Indicator, dichotomous |\n",
    "| Pclass | Ticket class | 1 = 1st, 2 = 2nd, 3 = 3rd | Categorical, or ordinal |\n",
    "| Name | Passenger name | | String |\n",
    "| Sex | Passenger's sex | Male, Female | Categorical or indicator |\n",
    "| Age | Passenger's age | | Numerical |\n",
    "| Sibsp | # of siblings / spouses aboard the Titanic | | Numerical | \n",
    "| Parch | # of parents / children aboard the Titanic | | Nmerical |\n",
    "| Ticket | Ticket number | | String |\n",
    "| Fare | Passenger fare | | Numerical, continuous |\n",
    "| Cabin | Cabin number | | Categorical |\n",
    "| Embarked | Port of embarkation | C = Cherbourg, Q = Queenstown, S = Southampton | Categorical |"
   ]
  },
  {
   "cell_type": "markdown",
   "id": "47dfb02b",
   "metadata": {},
   "source": [
    "### Exploratory Data Analysis"
   ]
  },
  {
   "cell_type": "markdown",
   "id": "1330f7dc",
   "metadata": {},
   "source": [
    "First, we can categorize each variable as either an indicator variable, multi-category categorical variable, or numeric variable.  Then we can proceed in our exploratory data analysis by constructing the appropriate visualization for each type of variable."
   ]
  },
  {
   "cell_type": "code",
   "execution_count": 3,
   "id": "f3795c77",
   "metadata": {},
   "outputs": [
    {
     "data": {
      "text/html": [
       "<div>\n",
       "<style scoped>\n",
       "    .dataframe tbody tr th:only-of-type {\n",
       "        vertical-align: middle;\n",
       "    }\n",
       "\n",
       "    .dataframe tbody tr th {\n",
       "        vertical-align: top;\n",
       "    }\n",
       "\n",
       "    .dataframe thead th {\n",
       "        text-align: right;\n",
       "    }\n",
       "</style>\n",
       "<table border=\"1\" class=\"dataframe\">\n",
       "  <thead>\n",
       "    <tr style=\"text-align: right;\">\n",
       "      <th></th>\n",
       "      <th>Age</th>\n",
       "      <th>Fare</th>\n",
       "      <th>SibSp</th>\n",
       "      <th>Parch</th>\n",
       "    </tr>\n",
       "  </thead>\n",
       "  <tbody>\n",
       "    <tr>\n",
       "      <th>count</th>\n",
       "      <td>714.000000</td>\n",
       "      <td>891.000000</td>\n",
       "      <td>891.000000</td>\n",
       "      <td>891.000000</td>\n",
       "    </tr>\n",
       "    <tr>\n",
       "      <th>mean</th>\n",
       "      <td>29.699118</td>\n",
       "      <td>32.204208</td>\n",
       "      <td>0.523008</td>\n",
       "      <td>0.381594</td>\n",
       "    </tr>\n",
       "    <tr>\n",
       "      <th>std</th>\n",
       "      <td>14.526497</td>\n",
       "      <td>49.693429</td>\n",
       "      <td>1.102743</td>\n",
       "      <td>0.806057</td>\n",
       "    </tr>\n",
       "    <tr>\n",
       "      <th>min</th>\n",
       "      <td>0.420000</td>\n",
       "      <td>0.000000</td>\n",
       "      <td>0.000000</td>\n",
       "      <td>0.000000</td>\n",
       "    </tr>\n",
       "    <tr>\n",
       "      <th>25%</th>\n",
       "      <td>20.125000</td>\n",
       "      <td>7.910400</td>\n",
       "      <td>0.000000</td>\n",
       "      <td>0.000000</td>\n",
       "    </tr>\n",
       "    <tr>\n",
       "      <th>50%</th>\n",
       "      <td>28.000000</td>\n",
       "      <td>14.454200</td>\n",
       "      <td>0.000000</td>\n",
       "      <td>0.000000</td>\n",
       "    </tr>\n",
       "    <tr>\n",
       "      <th>75%</th>\n",
       "      <td>38.000000</td>\n",
       "      <td>31.000000</td>\n",
       "      <td>1.000000</td>\n",
       "      <td>0.000000</td>\n",
       "    </tr>\n",
       "    <tr>\n",
       "      <th>max</th>\n",
       "      <td>80.000000</td>\n",
       "      <td>512.329200</td>\n",
       "      <td>8.000000</td>\n",
       "      <td>6.000000</td>\n",
       "    </tr>\n",
       "  </tbody>\n",
       "</table>\n",
       "</div>"
      ],
      "text/plain": [
       "              Age        Fare       SibSp       Parch\n",
       "count  714.000000  891.000000  891.000000  891.000000\n",
       "mean    29.699118   32.204208    0.523008    0.381594\n",
       "std     14.526497   49.693429    1.102743    0.806057\n",
       "min      0.420000    0.000000    0.000000    0.000000\n",
       "25%     20.125000    7.910400    0.000000    0.000000\n",
       "50%     28.000000   14.454200    0.000000    0.000000\n",
       "75%     38.000000   31.000000    1.000000    0.000000\n",
       "max     80.000000  512.329200    8.000000    6.000000"
      ]
     },
     "execution_count": 3,
     "metadata": {},
     "output_type": "execute_result"
    },
    {
     "data": {
      "text/plain": [
       "array([[<Axes: title={'center': 'Age'}>,\n",
       "        <Axes: title={'center': 'Fare'}>],\n",
       "       [<Axes: title={'center': 'SibSp'}>,\n",
       "        <Axes: title={'center': 'Parch'}>]], dtype=object)"
      ]
     },
     "execution_count": 3,
     "metadata": {},
     "output_type": "execute_result"
    },
    {
     "data": {
      "text/plain": [
       "<seaborn.axisgrid.FacetGrid at 0x26e7d204fd0>"
      ]
     },
     "execution_count": 3,
     "metadata": {},
     "output_type": "execute_result"
    },
    {
     "data": {
      "text/plain": [
       "<Axes: title={'center': 'Pclass'}>"
      ]
     },
     "execution_count": 3,
     "metadata": {},
     "output_type": "execute_result"
    },
    {
     "data": {
      "text/plain": [
       "<Axes: title={'center': 'Embarked'}>"
      ]
     },
     "execution_count": 3,
     "metadata": {},
     "output_type": "execute_result"
    },
    {
     "data": {
      "text/plain": [
       "<Axes: title={'center': 'Cabin'}>"
      ]
     },
     "execution_count": 3,
     "metadata": {},
     "output_type": "execute_result"
    },
    {
     "data": {
      "text/plain": [
       "<Axes: title={'center': 'Sex'}>"
      ]
     },
     "execution_count": 3,
     "metadata": {},
     "output_type": "execute_result"
    },
    {
     "data": {
      "image/png": "[encoded data removed]",
      "text/plain": [
       "<Figure size 1080x720 with 4 Axes>"
      ]
     },
     "metadata": {
      "needs_background": "light"
     },
     "output_type": "display_data"
    },
    {
     "data": {
      "image/png": "[encoded data removed]",
      "text/plain": [
       "<Figure size 360x360 with 1 Axes>"
      ]
     },
     "metadata": {
      "needs_background": "light"
     },
     "output_type": "display_data"
    },
    {
     "data": {
      "image/png": "[encoded data removed]",
      "text/plain": [
       "<Figure size 1080x1080 with 4 Axes>"
      ]
     },
     "metadata": {
      "needs_background": "light"
     },
     "output_type": "display_data"
    }
   ],
   "source": [
    "import seaborn as sns\n",
    "import matplotlib.pyplot as plt\n",
    "import numpy as np\n",
    "\n",
    "numeric_variables = ['Age', 'Fare', 'SibSp', 'Parch']\n",
    "\n",
    "indicator_variables = ['Survived']\n",
    "\n",
    "categorical_variables = ['Pclass', 'Embarked', 'Cabin', 'Sex']\n",
    "\n",
    "# Numeric Variable Visualizations\n",
    "titanic_training_data[numeric_variables].describe()\n",
    "\n",
    "titanic_training_data[numeric_variables].hist(edgecolor = 'black', \n",
    "                                             bins = 15, figsize = (15, 10),\n",
    "                                             layout = (2, 2), grid = False)\n",
    "\n",
    "\n",
    "# Indicator Variable Visualizations\n",
    "sns.catplot(x = 'Survived', kind = 'count', data = titanic_training_data)\n",
    "\n",
    "\n",
    "# Categorical Variable Visualizations\n",
    "fig, ax = plt.subplots(2, 2, figsize = (15, 15))\n",
    "for var, subplot in zip(categorical_variables, ax.flatten()):\n",
    "    titanic_training_data[var].value_counts().plot(kind = 'bar', ax = subplot, title = var)\n",
    "\n",
    "fig.tight_layout()\n",
    "\n",
    "\n",
    "\n"
   ]
  },
  {
   "cell_type": "markdown",
   "id": "0dc0662e",
   "metadata": {},
   "source": [
    "### Investigation of Missing Data and Outliers"
   ]
  },
  {
   "cell_type": "code",
   "execution_count": 4,
   "id": "2291e035",
   "metadata": {},
   "outputs": [
    {
     "data": {
      "text/html": [
       "<div>\n",
       "<style scoped>\n",
       "    .dataframe tbody tr th:only-of-type {\n",
       "        vertical-align: middle;\n",
       "    }\n",
       "\n",
       "    .dataframe tbody tr th {\n",
       "        vertical-align: top;\n",
       "    }\n",
       "\n",
       "    .dataframe thead th {\n",
       "        text-align: right;\n",
       "    }\n",
       "</style>\n",
       "<table border=\"1\" class=\"dataframe\">\n",
       "  <thead>\n",
       "    <tr style=\"text-align: right;\">\n",
       "      <th></th>\n",
       "      <th>Missing Count</th>\n",
       "      <th>Percentage Missing</th>\n",
       "      <th>Column Type</th>\n",
       "    </tr>\n",
       "  </thead>\n",
       "  <tbody>\n",
       "    <tr>\n",
       "      <th>Cabin</th>\n",
       "      <td>687</td>\n",
       "      <td>77.104377</td>\n",
       "      <td>object</td>\n",
       "    </tr>\n",
       "    <tr>\n",
       "      <th>Age</th>\n",
       "      <td>177</td>\n",
       "      <td>19.865320</td>\n",
       "      <td>float64</td>\n",
       "    </tr>\n",
       "    <tr>\n",
       "      <th>Embarked</th>\n",
       "      <td>2</td>\n",
       "      <td>0.224467</td>\n",
       "      <td>object</td>\n",
       "    </tr>\n",
       "  </tbody>\n",
       "</table>\n",
       "</div>"
      ],
      "text/plain": [
       "          Missing Count  Percentage Missing Column Type\n",
       "Cabin               687           77.104377      object\n",
       "Age                 177           19.865320     float64\n",
       "Embarked              2            0.224467      object"
      ]
     },
     "execution_count": 4,
     "metadata": {},
     "output_type": "execute_result"
    }
   ],
   "source": [
    "# find null counts, percentage of null values, and column type\n",
    "null_count = titanic_training_data.isnull().sum()\n",
    "null_percentage = titanic_training_data.isnull().sum() * 100 / len(titanic_training_data)\n",
    "column_type = titanic_training_data.dtypes\n",
    "\n",
    "# show null counts, percentage of null values, and column type for columns with more than one Null value\n",
    "null_summary = pd.concat([null_count, null_percentage, column_type], axis=1, keys=['Missing Count', 'Percentage Missing','Column Type'])\n",
    "null_summary_only_missing = null_summary[null_count != 0].sort_values('Percentage Missing',ascending=False)\n",
    "null_summary_only_missing"
   ]
  },
  {
   "cell_type": "markdown",
   "id": "66a5cc9d",
   "metadata": {},
   "source": [
    "Let's address the missing data appropriately in a new dataframe that we'll name titanic_training_data_cleaned."
   ]
  },
  {
   "cell_type": "code",
   "execution_count": 5,
   "id": "ca0ed908",
   "metadata": {},
   "outputs": [],
   "source": [
    "# Create a new dataframe called titanic_training_data_cleaned so we don't modify the originally imported data\n",
    "titanic_training_data_cleaned = titanic_training_data.copy(deep=True)\n",
    "\n",
    "# Create new cabin-related variables that will be more useful and cleaner than the original cabin variable\n",
    "titanic_training_data_cleaned['Cabin_Data_Indicator'] = titanic_training_data_cleaned['Cabin'].notna().astype(int)\n",
    "\n",
    "# Create a variable for deck associated with the passenger's first listed cabin\n",
    "titanic_training_data_cleaned['First_Cabin_Deck'] = titanic_training_data_cleaned['Cabin'].astype(str).str[0]\n",
    "\n",
    "def conditions(s):\n",
    "    if (s['First_Cabin_Deck'] == \"A\"):\n",
    "        return 1\n",
    "    elif (s['First_Cabin_Deck'] == \"B\"):\n",
    "        return 2    \n",
    "    elif (s['First_Cabin_Deck'] == \"C\"):\n",
    "        return 3      \n",
    "    elif (s['First_Cabin_Deck'] == \"D\"):\n",
    "        return 4      \n",
    "    elif (s['First_Cabin_Deck'] == \"E\"):\n",
    "        return 5      \n",
    "    elif (s['First_Cabin_Deck'] == \"F\"):\n",
    "        return 6     \n",
    "    elif (s['First_Cabin_Deck'] == \"G\"):\n",
    "        return 7\n",
    "    elif (s['First_Cabin_Deck'] == \"T\"):\n",
    "        return 10 \n",
    "    elif (s['First_Cabin_Deck'] == \"n\"):\n",
    "        return np.nan     \n",
    "    else:\n",
    "        return np.nan\n",
    "\n",
    "titanic_training_data_cleaned['Deck'] = titanic_training_data_cleaned.apply(conditions, axis=1)\n",
    "\n",
    "# Drop the original Cabin variable since it has so many null values and since some passengers had more than one cabin\n",
    "# making the original variable difficult to work with.  Drop First_Cabin_Deck as well since we're using Deck now\n",
    "titanic_training_data_cleaned.drop(['Cabin', 'First_Cabin_Deck'],axis=1,inplace=True)\n",
    "\n",
    "\n",
    "# Apply Imputation to Fill In Null Values for Missing Data Values\n",
    "titanic_training_data_cleaned.fillna(method='ffill', inplace=True)\n",
    "titanic_training_data_cleaned.fillna(method='bfill', inplace=True)\n",
    "\n",
    "# Create a new variable indicating whether a passenger is a child\n",
    "titanic_training_data_cleaned['Child_Indicator'] = titanic_training_data_cleaned['Age'] <= 17\n",
    "titanic_training_data_cleaned['Child_Indicator'] = titanic_training_data_cleaned['Child_Indicator'].astype(int)\n",
    "\n"
   ]
  },
  {
   "cell_type": "code",
   "execution_count": 6,
   "id": "7f96ed0d",
   "metadata": {},
   "outputs": [
    {
     "data": {
      "text/plain": [
       "0    549\n",
       "1    342\n",
       "Name: Survived, dtype: int64"
      ]
     },
     "execution_count": 6,
     "metadata": {},
     "output_type": "execute_result"
    }
   ],
   "source": [
    "titanic_training_data_cleaned['Survived'].value_counts()"
   ]
  },
  {
   "cell_type": "markdown",
   "id": "e2cb369d",
   "metadata": {},
   "source": [
    "Check the distributions of the variables in the newly cleaned dataframe.  Also, check for missing values in this new dataframe."
   ]
  },
  {
   "cell_type": "code",
   "execution_count": 7,
   "id": "a107d815",
   "metadata": {
    "scrolled": true
   },
   "outputs": [
    {
     "data": {
      "text/html": [
       "<div>\n",
       "<style scoped>\n",
       "    .dataframe tbody tr th:only-of-type {\n",
       "        vertical-align: middle;\n",
       "    }\n",
       "\n",
       "    .dataframe tbody tr th {\n",
       "        vertical-align: top;\n",
       "    }\n",
       "\n",
       "    .dataframe thead th {\n",
       "        text-align: right;\n",
       "    }\n",
       "</style>\n",
       "<table border=\"1\" class=\"dataframe\">\n",
       "  <thead>\n",
       "    <tr style=\"text-align: right;\">\n",
       "      <th></th>\n",
       "      <th>PassengerId</th>\n",
       "      <th>Survived</th>\n",
       "      <th>Pclass</th>\n",
       "      <th>Name</th>\n",
       "      <th>Sex</th>\n",
       "      <th>Age</th>\n",
       "      <th>SibSp</th>\n",
       "      <th>Parch</th>\n",
       "      <th>Ticket</th>\n",
       "      <th>Fare</th>\n",
       "      <th>Embarked</th>\n",
       "      <th>Cabin_Data_Indicator</th>\n",
       "      <th>Deck</th>\n",
       "      <th>Child_Indicator</th>\n",
       "    </tr>\n",
       "  </thead>\n",
       "  <tbody>\n",
       "    <tr>\n",
       "      <th>0</th>\n",
       "      <td>1</td>\n",
       "      <td>0</td>\n",
       "      <td>3</td>\n",
       "      <td>Braund, Mr. Owen Harris</td>\n",
       "      <td>male</td>\n",
       "      <td>22.0</td>\n",
       "      <td>1</td>\n",
       "      <td>0</td>\n",
       "      <td>A/5 21171</td>\n",
       "      <td>7.2500</td>\n",
       "      <td>S</td>\n",
       "      <td>0</td>\n",
       "      <td>3.0</td>\n",
       "      <td>0</td>\n",
       "    </tr>\n",
       "    <tr>\n",
       "      <th>1</th>\n",
       "      <td>2</td>\n",
       "      <td>1</td>\n",
       "      <td>1</td>\n",
       "      <td>Cumings, Mrs. John Bradley (Florence Briggs Th...</td>\n",
       "      <td>female</td>\n",
       "      <td>38.0</td>\n",
       "      <td>1</td>\n",
       "      <td>0</td>\n",
       "      <td>PC 17599</td>\n",
       "      <td>71.2833</td>\n",
       "      <td>C</td>\n",
       "      <td>1</td>\n",
       "      <td>3.0</td>\n",
       "      <td>0</td>\n",
       "    </tr>\n",
       "    <tr>\n",
       "      <th>2</th>\n",
       "      <td>3</td>\n",
       "      <td>1</td>\n",
       "      <td>3</td>\n",
       "      <td>Heikkinen, Miss. Laina</td>\n",
       "      <td>female</td>\n",
       "      <td>26.0</td>\n",
       "      <td>0</td>\n",
       "      <td>0</td>\n",
       "      <td>STON/O2. 3101282</td>\n",
       "      <td>7.9250</td>\n",
       "      <td>S</td>\n",
       "      <td>0</td>\n",
       "      <td>3.0</td>\n",
       "      <td>0</td>\n",
       "    </tr>\n",
       "    <tr>\n",
       "      <th>3</th>\n",
       "      <td>4</td>\n",
       "      <td>1</td>\n",
       "      <td>1</td>\n",
       "      <td>Futrelle, Mrs. Jacques Heath (Lily May Peel)</td>\n",
       "      <td>female</td>\n",
       "      <td>35.0</td>\n",
       "      <td>1</td>\n",
       "      <td>0</td>\n",
       "      <td>113803</td>\n",
       "      <td>53.1000</td>\n",
       "      <td>S</td>\n",
       "      <td>1</td>\n",
       "      <td>3.0</td>\n",
       "      <td>0</td>\n",
       "    </tr>\n",
       "    <tr>\n",
       "      <th>4</th>\n",
       "      <td>5</td>\n",
       "      <td>0</td>\n",
       "      <td>3</td>\n",
       "      <td>Allen, Mr. William Henry</td>\n",
       "      <td>male</td>\n",
       "      <td>35.0</td>\n",
       "      <td>0</td>\n",
       "      <td>0</td>\n",
       "      <td>373450</td>\n",
       "      <td>8.0500</td>\n",
       "      <td>S</td>\n",
       "      <td>0</td>\n",
       "      <td>3.0</td>\n",
       "      <td>0</td>\n",
       "    </tr>\n",
       "    <tr>\n",
       "      <th>5</th>\n",
       "      <td>6</td>\n",
       "      <td>0</td>\n",
       "      <td>3</td>\n",
       "      <td>Moran, Mr. James</td>\n",
       "      <td>male</td>\n",
       "      <td>35.0</td>\n",
       "      <td>0</td>\n",
       "      <td>0</td>\n",
       "      <td>330877</td>\n",
       "      <td>8.4583</td>\n",
       "      <td>Q</td>\n",
       "      <td>0</td>\n",
       "      <td>3.0</td>\n",
       "      <td>0</td>\n",
       "    </tr>\n",
       "    <tr>\n",
       "      <th>6</th>\n",
       "      <td>7</td>\n",
       "      <td>0</td>\n",
       "      <td>1</td>\n",
       "      <td>McCarthy, Mr. Timothy J</td>\n",
       "      <td>male</td>\n",
       "      <td>54.0</td>\n",
       "      <td>0</td>\n",
       "      <td>0</td>\n",
       "      <td>17463</td>\n",
       "      <td>51.8625</td>\n",
       "      <td>S</td>\n",
       "      <td>1</td>\n",
       "      <td>5.0</td>\n",
       "      <td>0</td>\n",
       "    </tr>\n",
       "    <tr>\n",
       "      <th>7</th>\n",
       "      <td>8</td>\n",
       "      <td>0</td>\n",
       "      <td>3</td>\n",
       "      <td>Palsson, Master. Gosta Leonard</td>\n",
       "      <td>male</td>\n",
       "      <td>2.0</td>\n",
       "      <td>3</td>\n",
       "      <td>1</td>\n",
       "      <td>349909</td>\n",
       "      <td>21.0750</td>\n",
       "      <td>S</td>\n",
       "      <td>0</td>\n",
       "      <td>5.0</td>\n",
       "      <td>1</td>\n",
       "    </tr>\n",
       "    <tr>\n",
       "      <th>8</th>\n",
       "      <td>9</td>\n",
       "      <td>1</td>\n",
       "      <td>3</td>\n",
       "      <td>Johnson, Mrs. Oscar W (Elisabeth Vilhelmina Berg)</td>\n",
       "      <td>female</td>\n",
       "      <td>27.0</td>\n",
       "      <td>0</td>\n",
       "      <td>2</td>\n",
       "      <td>347742</td>\n",
       "      <td>11.1333</td>\n",
       "      <td>S</td>\n",
       "      <td>0</td>\n",
       "      <td>5.0</td>\n",
       "      <td>0</td>\n",
       "    </tr>\n",
       "    <tr>\n",
       "      <th>9</th>\n",
       "      <td>10</td>\n",
       "      <td>1</td>\n",
       "      <td>2</td>\n",
       "      <td>Nasser, Mrs. Nicholas (Adele Achem)</td>\n",
       "      <td>female</td>\n",
       "      <td>14.0</td>\n",
       "      <td>1</td>\n",
       "      <td>0</td>\n",
       "      <td>237736</td>\n",
       "      <td>30.0708</td>\n",
       "      <td>C</td>\n",
       "      <td>0</td>\n",
       "      <td>5.0</td>\n",
       "      <td>1</td>\n",
       "    </tr>\n",
       "    <tr>\n",
       "      <th>10</th>\n",
       "      <td>11</td>\n",
       "      <td>1</td>\n",
       "      <td>3</td>\n",
       "      <td>Sandstrom, Miss. Marguerite Rut</td>\n",
       "      <td>female</td>\n",
       "      <td>4.0</td>\n",
       "      <td>1</td>\n",
       "      <td>1</td>\n",
       "      <td>PP 9549</td>\n",
       "      <td>16.7000</td>\n",
       "      <td>S</td>\n",
       "      <td>1</td>\n",
       "      <td>7.0</td>\n",
       "      <td>1</td>\n",
       "    </tr>\n",
       "    <tr>\n",
       "      <th>11</th>\n",
       "      <td>12</td>\n",
       "      <td>1</td>\n",
       "      <td>1</td>\n",
       "      <td>Bonnell, Miss. Elizabeth</td>\n",
       "      <td>female</td>\n",
       "      <td>58.0</td>\n",
       "      <td>0</td>\n",
       "      <td>0</td>\n",
       "      <td>113783</td>\n",
       "      <td>26.5500</td>\n",
       "      <td>S</td>\n",
       "      <td>1</td>\n",
       "      <td>3.0</td>\n",
       "      <td>0</td>\n",
       "    </tr>\n",
       "    <tr>\n",
       "      <th>12</th>\n",
       "      <td>13</td>\n",
       "      <td>0</td>\n",
       "      <td>3</td>\n",
       "      <td>Saundercock, Mr. William Henry</td>\n",
       "      <td>male</td>\n",
       "      <td>20.0</td>\n",
       "      <td>0</td>\n",
       "      <td>0</td>\n",
       "      <td>A/5. 2151</td>\n",
       "      <td>8.0500</td>\n",
       "      <td>S</td>\n",
       "      <td>0</td>\n",
       "      <td>3.0</td>\n",
       "      <td>0</td>\n",
       "    </tr>\n",
       "    <tr>\n",
       "      <th>13</th>\n",
       "      <td>14</td>\n",
       "      <td>0</td>\n",
       "      <td>3</td>\n",
       "      <td>Andersson, Mr. Anders Johan</td>\n",
       "      <td>male</td>\n",
       "      <td>39.0</td>\n",
       "      <td>1</td>\n",
       "      <td>5</td>\n",
       "      <td>347082</td>\n",
       "      <td>31.2750</td>\n",
       "      <td>S</td>\n",
       "      <td>0</td>\n",
       "      <td>3.0</td>\n",
       "      <td>0</td>\n",
       "    </tr>\n",
       "    <tr>\n",
       "      <th>14</th>\n",
       "      <td>15</td>\n",
       "      <td>0</td>\n",
       "      <td>3</td>\n",
       "      <td>Vestrom, Miss. Hulda Amanda Adolfina</td>\n",
       "      <td>female</td>\n",
       "      <td>14.0</td>\n",
       "      <td>0</td>\n",
       "      <td>0</td>\n",
       "      <td>350406</td>\n",
       "      <td>7.8542</td>\n",
       "      <td>S</td>\n",
       "      <td>0</td>\n",
       "      <td>3.0</td>\n",
       "      <td>1</td>\n",
       "    </tr>\n",
       "    <tr>\n",
       "      <th>15</th>\n",
       "      <td>16</td>\n",
       "      <td>1</td>\n",
       "      <td>2</td>\n",
       "      <td>Hewlett, Mrs. (Mary D Kingcome)</td>\n",
       "      <td>female</td>\n",
       "      <td>55.0</td>\n",
       "      <td>0</td>\n",
       "      <td>0</td>\n",
       "      <td>248706</td>\n",
       "      <td>16.0000</td>\n",
       "      <td>S</td>\n",
       "      <td>0</td>\n",
       "      <td>3.0</td>\n",
       "      <td>0</td>\n",
       "    </tr>\n",
       "    <tr>\n",
       "      <th>16</th>\n",
       "      <td>17</td>\n",
       "      <td>0</td>\n",
       "      <td>3</td>\n",
       "      <td>Rice, Master. Eugene</td>\n",
       "      <td>male</td>\n",
       "      <td>2.0</td>\n",
       "      <td>4</td>\n",
       "      <td>1</td>\n",
       "      <td>382652</td>\n",
       "      <td>29.1250</td>\n",
       "      <td>Q</td>\n",
       "      <td>0</td>\n",
       "      <td>3.0</td>\n",
       "      <td>1</td>\n",
       "    </tr>\n",
       "    <tr>\n",
       "      <th>17</th>\n",
       "      <td>18</td>\n",
       "      <td>1</td>\n",
       "      <td>2</td>\n",
       "      <td>Williams, Mr. Charles Eugene</td>\n",
       "      <td>male</td>\n",
       "      <td>2.0</td>\n",
       "      <td>0</td>\n",
       "      <td>0</td>\n",
       "      <td>244373</td>\n",
       "      <td>13.0000</td>\n",
       "      <td>S</td>\n",
       "      <td>0</td>\n",
       "      <td>3.0</td>\n",
       "      <td>1</td>\n",
       "    </tr>\n",
       "    <tr>\n",
       "      <th>18</th>\n",
       "      <td>19</td>\n",
       "      <td>0</td>\n",
       "      <td>3</td>\n",
       "      <td>Vander Planke, Mrs. Julius (Emelia Maria Vande...</td>\n",
       "      <td>female</td>\n",
       "      <td>31.0</td>\n",
       "      <td>1</td>\n",
       "      <td>0</td>\n",
       "      <td>345763</td>\n",
       "      <td>18.0000</td>\n",
       "      <td>S</td>\n",
       "      <td>0</td>\n",
       "      <td>3.0</td>\n",
       "      <td>0</td>\n",
       "    </tr>\n",
       "    <tr>\n",
       "      <th>19</th>\n",
       "      <td>20</td>\n",
       "      <td>1</td>\n",
       "      <td>3</td>\n",
       "      <td>Masselmani, Mrs. Fatima</td>\n",
       "      <td>female</td>\n",
       "      <td>31.0</td>\n",
       "      <td>0</td>\n",
       "      <td>0</td>\n",
       "      <td>2649</td>\n",
       "      <td>7.2250</td>\n",
       "      <td>C</td>\n",
       "      <td>0</td>\n",
       "      <td>3.0</td>\n",
       "      <td>0</td>\n",
       "    </tr>\n",
       "  </tbody>\n",
       "</table>\n",
       "</div>"
      ],
      "text/plain": [
       "    PassengerId  Survived  Pclass  \\\n",
       "0             1         0       3   \n",
       "1             2         1       1   \n",
       "2             3         1       3   \n",
       "3             4         1       1   \n",
       "4             5         0       3   \n",
       "5             6         0       3   \n",
       "6             7         0       1   \n",
       "7             8         0       3   \n",
       "8             9         1       3   \n",
       "9            10         1       2   \n",
       "10           11         1       3   \n",
       "11           12         1       1   \n",
       "12           13         0       3   \n",
       "13           14         0       3   \n",
       "14           15         0       3   \n",
       "15           16         1       2   \n",
       "16           17         0       3   \n",
       "17           18         1       2   \n",
       "18           19         0       3   \n",
       "19           20         1       3   \n",
       "\n",
       "                                                 Name     Sex   Age  SibSp  \\\n",
       "0                             Braund, Mr. Owen Harris    male  22.0      1   \n",
       "1   Cumings, Mrs. John Bradley (Florence Briggs Th...  female  38.0      1   \n",
       "2                              Heikkinen, Miss. Laina  female  26.0      0   \n",
       "3        Futrelle, Mrs. Jacques Heath (Lily May Peel)  female  35.0      1   \n",
       "4                            Allen, Mr. William Henry    male  35.0      0   \n",
       "5                                    Moran, Mr. James    male  35.0      0   \n",
       "6                             McCarthy, Mr. Timothy J    male  54.0      0   \n",
       "7                      Palsson, Master. Gosta Leonard    male   2.0      3   \n",
       "8   Johnson, Mrs. Oscar W (Elisabeth Vilhelmina Berg)  female  27.0      0   \n",
       "9                 Nasser, Mrs. Nicholas (Adele Achem)  female  14.0      1   \n",
       "10                    Sandstrom, Miss. Marguerite Rut  female   4.0      1   \n",
       "11                           Bonnell, Miss. Elizabeth  female  58.0      0   \n",
       "12                     Saundercock, Mr. William Henry    male  20.0      0   \n",
       "13                        Andersson, Mr. Anders Johan    male  39.0      1   \n",
       "14               Vestrom, Miss. Hulda Amanda Adolfina  female  14.0      0   \n",
       "15                   Hewlett, Mrs. (Mary D Kingcome)   female  55.0      0   \n",
       "16                               Rice, Master. Eugene    male   2.0      4   \n",
       "17                       Williams, Mr. Charles Eugene    male   2.0      0   \n",
       "18  Vander Planke, Mrs. Julius (Emelia Maria Vande...  female  31.0      1   \n",
       "19                            Masselmani, Mrs. Fatima  female  31.0      0   \n",
       "\n",
       "    Parch            Ticket     Fare Embarked  Cabin_Data_Indicator  Deck  \\\n",
       "0       0         A/5 21171   7.2500        S                     0   3.0   \n",
       "1       0          PC 17599  71.2833        C                     1   3.0   \n",
       "2       0  STON/O2. 3101282   7.9250        S                     0   3.0   \n",
       "3       0            113803  53.1000        S                     1   3.0   \n",
       "4       0            373450   8.0500        S                     0   3.0   \n",
       "5       0            330877   8.4583        Q                     0   3.0   \n",
       "6       0             17463  51.8625        S                     1   5.0   \n",
       "7       1            349909  21.0750        S                     0   5.0   \n",
       "8       2            347742  11.1333        S                     0   5.0   \n",
       "9       0            237736  30.0708        C                     0   5.0   \n",
       "10      1           PP 9549  16.7000        S                     1   7.0   \n",
       "11      0            113783  26.5500        S                     1   3.0   \n",
       "12      0         A/5. 2151   8.0500        S                     0   3.0   \n",
       "13      5            347082  31.2750        S                     0   3.0   \n",
       "14      0            350406   7.8542        S                     0   3.0   \n",
       "15      0            248706  16.0000        S                     0   3.0   \n",
       "16      1            382652  29.1250        Q                     0   3.0   \n",
       "17      0            244373  13.0000        S                     0   3.0   \n",
       "18      0            345763  18.0000        S                     0   3.0   \n",
       "19      0              2649   7.2250        C                     0   3.0   \n",
       "\n",
       "    Child_Indicator  \n",
       "0                 0  \n",
       "1                 0  \n",
       "2                 0  \n",
       "3                 0  \n",
       "4                 0  \n",
       "5                 0  \n",
       "6                 0  \n",
       "7                 1  \n",
       "8                 0  \n",
       "9                 1  \n",
       "10                1  \n",
       "11                0  \n",
       "12                0  \n",
       "13                0  \n",
       "14                1  \n",
       "15                0  \n",
       "16                1  \n",
       "17                1  \n",
       "18                0  \n",
       "19                0  "
      ]
     },
     "execution_count": 7,
     "metadata": {},
     "output_type": "execute_result"
    },
    {
     "data": {
      "text/plain": [
       "(891, 14)"
      ]
     },
     "execution_count": 7,
     "metadata": {},
     "output_type": "execute_result"
    }
   ],
   "source": [
    "# show first five rows of the data\n",
    "titanic_training_data_cleaned.head(20)\n",
    "# show number of columns and rows\n",
    "titanic_training_data_cleaned.shape"
   ]
  },
  {
   "cell_type": "markdown",
   "id": "ab6de414",
   "metadata": {},
   "source": [
    "#### Variable Key Guide:\n",
    "\n",
    "| Variable name | Variable label | Variable value and value label | Variable type |\n",
    "| :-: | :-: | :-: | :-: |\n",
    "| PassengerID | Passenger ID | | Numerical |\n",
    "| Survived | Did the passenger survive? | 0 = No, 1 = Yes | Indicator, dichotomous |\n",
    "| Pclass | Ticket class | 1 = 1st, 2 = 2nd, 3 = 3rd | Categorical |\n",
    "| Name | Passenger name | | String |\n",
    "| Sex | Passenger's sex | Male, Female | Categorical |\n",
    "| Age | Passenger's age | | Numerical |\n",
    "| Sibsp | # of siblings / spouses aboard the Titanic | | Numerical | \n",
    "| Parch | # of parents / children aboard the Titanic | | Nmerical |\n",
    "| Ticket | Ticket number | | String |\n",
    "| Fare | Passenger fare | | Numerical, continuous |\n",
    "| Embarked | Port of embarkation | C = Cherbourg, Q = Queenstown, S = Southampton | Categorical |\n",
    "| Cabin Data Indicator | Cabin number | | Indicator, dichotomuous |\n",
    "| First cabin deck | In first cabin class | | Categorical |\n",
    "| Child_indicator | Was a child, under 18 years old | | Indicator, dichotomuous |"
   ]
  },
  {
   "cell_type": "code",
   "execution_count": 8,
   "id": "caf21820",
   "metadata": {},
   "outputs": [
    {
     "data": {
      "text/html": [
       "<div>\n",
       "<style scoped>\n",
       "    .dataframe tbody tr th:only-of-type {\n",
       "        vertical-align: middle;\n",
       "    }\n",
       "\n",
       "    .dataframe tbody tr th {\n",
       "        vertical-align: top;\n",
       "    }\n",
       "\n",
       "    .dataframe thead th {\n",
       "        text-align: right;\n",
       "    }\n",
       "</style>\n",
       "<table border=\"1\" class=\"dataframe\">\n",
       "  <thead>\n",
       "    <tr style=\"text-align: right;\">\n",
       "      <th></th>\n",
       "      <th>Missing Count</th>\n",
       "      <th>Percentage Missing</th>\n",
       "      <th>Column Type</th>\n",
       "    </tr>\n",
       "  </thead>\n",
       "  <tbody>\n",
       "  </tbody>\n",
       "</table>\n",
       "</div>"
      ],
      "text/plain": [
       "Empty DataFrame\n",
       "Columns: [Missing Count, Percentage Missing, Column Type]\n",
       "Index: []"
      ]
     },
     "execution_count": 8,
     "metadata": {},
     "output_type": "execute_result"
    }
   ],
   "source": [
    "# find null counts, percentage of null values, and column type\n",
    "null_count = titanic_training_data_cleaned.isnull().sum()\n",
    "null_percentage = titanic_training_data_cleaned.isnull().sum() * 100 / len(titanic_training_data)\n",
    "column_type = titanic_training_data_cleaned.dtypes\n",
    "\n",
    "# show null counts, percentage of null values, and column type for columns with more than one Null value\n",
    "null_summary = pd.concat([null_count, null_percentage, column_type], axis=1, keys=['Missing Count', 'Percentage Missing','Column Type'])\n",
    "null_summary_only_missing = null_summary[null_count != 0].sort_values('Percentage Missing',ascending=False)\n",
    "null_summary_only_missing"
   ]
  },
  {
   "cell_type": "code",
   "execution_count": 9,
   "id": "bda19330",
   "metadata": {},
   "outputs": [
    {
     "data": {
      "text/html": [
       "<div>\n",
       "<style scoped>\n",
       "    .dataframe tbody tr th:only-of-type {\n",
       "        vertical-align: middle;\n",
       "    }\n",
       "\n",
       "    .dataframe tbody tr th {\n",
       "        vertical-align: top;\n",
       "    }\n",
       "\n",
       "    .dataframe thead th {\n",
       "        text-align: right;\n",
       "    }\n",
       "</style>\n",
       "<table border=\"1\" class=\"dataframe\">\n",
       "  <thead>\n",
       "    <tr style=\"text-align: right;\">\n",
       "      <th></th>\n",
       "      <th>Age</th>\n",
       "      <th>Fare</th>\n",
       "      <th>SibSp</th>\n",
       "      <th>Parch</th>\n",
       "    </tr>\n",
       "  </thead>\n",
       "  <tbody>\n",
       "    <tr>\n",
       "      <th>count</th>\n",
       "      <td>891.00000</td>\n",
       "      <td>891.000000</td>\n",
       "      <td>891.000000</td>\n",
       "      <td>891.000000</td>\n",
       "    </tr>\n",
       "    <tr>\n",
       "      <th>mean</th>\n",
       "      <td>29.58156</td>\n",
       "      <td>32.204208</td>\n",
       "      <td>0.523008</td>\n",
       "      <td>0.381594</td>\n",
       "    </tr>\n",
       "    <tr>\n",
       "      <th>std</th>\n",
       "      <td>14.55459</td>\n",
       "      <td>49.693429</td>\n",
       "      <td>1.102743</td>\n",
       "      <td>0.806057</td>\n",
       "    </tr>\n",
       "    <tr>\n",
       "      <th>min</th>\n",
       "      <td>0.42000</td>\n",
       "      <td>0.000000</td>\n",
       "      <td>0.000000</td>\n",
       "      <td>0.000000</td>\n",
       "    </tr>\n",
       "    <tr>\n",
       "      <th>25%</th>\n",
       "      <td>20.00000</td>\n",
       "      <td>7.910400</td>\n",
       "      <td>0.000000</td>\n",
       "      <td>0.000000</td>\n",
       "    </tr>\n",
       "    <tr>\n",
       "      <th>50%</th>\n",
       "      <td>28.00000</td>\n",
       "      <td>14.454200</td>\n",
       "      <td>0.000000</td>\n",
       "      <td>0.000000</td>\n",
       "    </tr>\n",
       "    <tr>\n",
       "      <th>75%</th>\n",
       "      <td>38.00000</td>\n",
       "      <td>31.000000</td>\n",
       "      <td>1.000000</td>\n",
       "      <td>0.000000</td>\n",
       "    </tr>\n",
       "    <tr>\n",
       "      <th>max</th>\n",
       "      <td>80.00000</td>\n",
       "      <td>512.329200</td>\n",
       "      <td>8.000000</td>\n",
       "      <td>6.000000</td>\n",
       "    </tr>\n",
       "  </tbody>\n",
       "</table>\n",
       "</div>"
      ],
      "text/plain": [
       "             Age        Fare       SibSp       Parch\n",
       "count  891.00000  891.000000  891.000000  891.000000\n",
       "mean    29.58156   32.204208    0.523008    0.381594\n",
       "std     14.55459   49.693429    1.102743    0.806057\n",
       "min      0.42000    0.000000    0.000000    0.000000\n",
       "25%     20.00000    7.910400    0.000000    0.000000\n",
       "50%     28.00000   14.454200    0.000000    0.000000\n",
       "75%     38.00000   31.000000    1.000000    0.000000\n",
       "max     80.00000  512.329200    8.000000    6.000000"
      ]
     },
     "execution_count": 9,
     "metadata": {},
     "output_type": "execute_result"
    },
    {
     "data": {
      "text/plain": [
       "array([[<Axes: title={'center': 'Age'}>,\n",
       "        <Axes: title={'center': 'Fare'}>],\n",
       "       [<Axes: title={'center': 'SibSp'}>,\n",
       "        <Axes: title={'center': 'Parch'}>]], dtype=object)"
      ]
     },
     "execution_count": 9,
     "metadata": {},
     "output_type": "execute_result"
    },
    {
     "data": {
      "text/plain": [
       "<seaborn.axisgrid.FacetGrid at 0x26e2112aa30>"
      ]
     },
     "execution_count": 9,
     "metadata": {},
     "output_type": "execute_result"
    },
    {
     "data": {
      "text/plain": [
       "<seaborn.axisgrid.FacetGrid at 0x26e2088f070>"
      ]
     },
     "execution_count": 9,
     "metadata": {},
     "output_type": "execute_result"
    },
    {
     "data": {
      "text/plain": [
       "<seaborn.axisgrid.FacetGrid at 0x26e21147850>"
      ]
     },
     "execution_count": 9,
     "metadata": {},
     "output_type": "execute_result"
    },
    {
     "data": {
      "text/plain": [
       "<Axes: title={'center': 'Pclass'}>"
      ]
     },
     "execution_count": 9,
     "metadata": {},
     "output_type": "execute_result"
    },
    {
     "data": {
      "text/plain": [
       "<Axes: title={'center': 'Embarked'}>"
      ]
     },
     "execution_count": 9,
     "metadata": {},
     "output_type": "execute_result"
    },
    {
     "data": {
      "text/plain": [
       "<Axes: title={'center': 'Deck'}>"
      ]
     },
     "execution_count": 9,
     "metadata": {},
     "output_type": "execute_result"
    },
    {
     "data": {
      "text/plain": [
       "<Axes: title={'center': 'Sex'}>"
      ]
     },
     "execution_count": 9,
     "metadata": {},
     "output_type": "execute_result"
    },
    {
     "data": {
      "image/png": "[encoded data removed]",
      "text/plain": [
       "<Figure size 1080x720 with 4 Axes>"
      ]
     },
     "metadata": {
      "needs_background": "light"
     },
     "output_type": "display_data"
    },
    {
     "data": {
      "image/png": "[encoded data removed]",
      "text/plain": [
       "<Figure size 360x360 with 1 Axes>"
      ]
     },
     "metadata": {
      "needs_background": "light"
     },
     "output_type": "display_data"
    },
    {
     "data": {
      "image/png": "[encoded data removed]",
      "text/plain": [
       "<Figure size 360x360 with 1 Axes>"
      ]
     },
     "metadata": {
      "needs_background": "light"
     },
     "output_type": "display_data"
    },
    {
     "data": {
      "image/png": "[encoded data removed]",
      "text/plain": [
       "<Figure size 360x360 with 1 Axes>"
      ]
     },
     "metadata": {
      "needs_background": "light"
     },
     "output_type": "display_data"
    },
    {
     "data": {
      "image/png": "[encoded data removed]",
      "text/plain": [
       "<Figure size 1080x1080 with 4 Axes>"
      ]
     },
     "metadata": {
      "needs_background": "light"
     },
     "output_type": "display_data"
    }
   ],
   "source": [
    "# Update our definitions of the indicator, numeric, and categorical variables to reflect our newly created variables\n",
    "numeric_variables = ['Age', 'Fare', 'SibSp', 'Parch']\n",
    "\n",
    "indicator_variables = ['Survived', 'Cabin_Data_Indicator', 'Child_Indicator']\n",
    "\n",
    "categorical_variables = ['Pclass', 'Embarked', 'Deck', 'Sex']\n",
    "\n",
    "# Numeric Variable Visualizations\n",
    "titanic_training_data_cleaned[numeric_variables].describe()\n",
    "\n",
    "titanic_training_data_cleaned[numeric_variables].hist(edgecolor = 'black', \n",
    "                                             bins = 15, figsize = (15, 10),\n",
    "                                             layout = (2, 2), grid = False)\n",
    "\n",
    "# Indicator Variable Visualizations\n",
    "\n",
    "for var, subplot in zip(indicator_variables, ax.flatten()):\n",
    "    sns.catplot(x = var, kind = 'count', data = titanic_training_data_cleaned)\n",
    "\n",
    "fig.tight_layout()\n",
    "\n",
    "    \n",
    "# Categorical Variable Visualizations\n",
    "fig, ax = plt.subplots(2, 2, figsize = (15, 15))\n",
    "for var, subplot in zip(categorical_variables, ax.flatten()):\n",
    "    titanic_training_data_cleaned[var].value_counts().plot(kind = 'bar', ax = subplot, title = var)\n",
    "\n",
    "fig.tight_layout()\n"
   ]
  },
  {
   "cell_type": "markdown",
   "id": "4796e05b",
   "metadata": {},
   "source": [
    "### Examination of the Relationship between the Dependent Variable and Potential Predictors"
   ]
  },
  {
   "cell_type": "markdown",
   "id": "712ca907",
   "metadata": {},
   "source": [
    "Let's create some visualizations to examine the relationship between potential predictors and our dependent variable."
   ]
  },
  {
   "cell_type": "code",
   "execution_count": 10,
   "id": "3afe5610",
   "metadata": {},
   "outputs": [
    {
     "data": {
      "text/plain": [
       "<Axes: xlabel='Survived', ylabel='Age'>"
      ]
     },
     "execution_count": 10,
     "metadata": {},
     "output_type": "execute_result"
    },
    {
     "data": {
      "text/plain": [
       "<Axes: xlabel='Survived', ylabel='Fare'>"
      ]
     },
     "execution_count": 10,
     "metadata": {},
     "output_type": "execute_result"
    },
    {
     "data": {
      "text/plain": [
       "<Axes: xlabel='Survived', ylabel='SibSp'>"
      ]
     },
     "execution_count": 10,
     "metadata": {},
     "output_type": "execute_result"
    },
    {
     "data": {
      "text/plain": [
       "<Axes: xlabel='Survived', ylabel='Parch'>"
      ]
     },
     "execution_count": 10,
     "metadata": {},
     "output_type": "execute_result"
    },
    {
     "data": {
      "text/plain": [
       "<seaborn.axisgrid.FacetGrid at 0x26e207bc250>"
      ]
     },
     "execution_count": 10,
     "metadata": {},
     "output_type": "execute_result"
    },
    {
     "data": {
      "text/plain": [
       "<seaborn.axisgrid.FacetGrid at 0x26e207bc250>"
      ]
     },
     "execution_count": 10,
     "metadata": {},
     "output_type": "execute_result"
    },
    {
     "data": {
      "text/plain": [
       "<seaborn.axisgrid.FacetGrid at 0x26e20adb460>"
      ]
     },
     "execution_count": 10,
     "metadata": {},
     "output_type": "execute_result"
    },
    {
     "data": {
      "text/plain": [
       "<seaborn.axisgrid.FacetGrid at 0x26e20adb460>"
      ]
     },
     "execution_count": 10,
     "metadata": {},
     "output_type": "execute_result"
    },
    {
     "data": {
      "text/plain": [
       "<seaborn.axisgrid.FacetGrid at 0x26e20b1c760>"
      ]
     },
     "execution_count": 10,
     "metadata": {},
     "output_type": "execute_result"
    },
    {
     "data": {
      "text/plain": [
       "<seaborn.axisgrid.FacetGrid at 0x26e20b1c760>"
      ]
     },
     "execution_count": 10,
     "metadata": {},
     "output_type": "execute_result"
    },
    {
     "data": {
      "text/plain": [
       "<seaborn.axisgrid.FacetGrid at 0x26e20b13f70>"
      ]
     },
     "execution_count": 10,
     "metadata": {},
     "output_type": "execute_result"
    },
    {
     "data": {
      "text/plain": [
       "<seaborn.axisgrid.FacetGrid at 0x26e20b13f70>"
      ]
     },
     "execution_count": 10,
     "metadata": {},
     "output_type": "execute_result"
    },
    {
     "data": {
      "text/plain": [
       "<seaborn.axisgrid.FacetGrid at 0x26e1ddd1b20>"
      ]
     },
     "execution_count": 10,
     "metadata": {},
     "output_type": "execute_result"
    },
    {
     "data": {
      "text/plain": [
       "<seaborn.axisgrid.FacetGrid at 0x26e1ddd1b20>"
      ]
     },
     "execution_count": 10,
     "metadata": {},
     "output_type": "execute_result"
    },
    {
     "data": {
      "text/plain": [
       "<seaborn.axisgrid.FacetGrid at 0x26e20b1c760>"
      ]
     },
     "execution_count": 10,
     "metadata": {},
     "output_type": "execute_result"
    },
    {
     "data": {
      "text/plain": [
       "<seaborn.axisgrid.FacetGrid at 0x26e20b1c760>"
      ]
     },
     "execution_count": 10,
     "metadata": {},
     "output_type": "execute_result"
    },
    {
     "data": {
      "text/plain": [
       "<seaborn.axisgrid.FacetGrid at 0x26e22a81340>"
      ]
     },
     "execution_count": 10,
     "metadata": {},
     "output_type": "execute_result"
    },
    {
     "data": {
      "text/plain": [
       "<seaborn.axisgrid.FacetGrid at 0x26e22a81340>"
      ]
     },
     "execution_count": 10,
     "metadata": {},
     "output_type": "execute_result"
    },
    {
     "data": {
      "image/png": "[encoded data removed]",
      "text/plain": [
       "<Figure size 792x792 with 4 Axes>"
      ]
     },
     "metadata": {
      "needs_background": "light"
     },
     "output_type": "display_data"
    },
    {
     "data": {
      "image/png": "[encoded data removed]",
      "text/plain": [
       "<Figure size 259.2x432 with 1 Axes>"
      ]
     },
     "metadata": {
      "needs_background": "light"
     },
     "output_type": "display_data"
    },
    {
     "data": {
      "image/png": "[encoded data removed]",
      "text/plain": [
       "<Figure size 259.2x432 with 1 Axes>"
      ]
     },
     "metadata": {
      "needs_background": "light"
     },
     "output_type": "display_data"
    },
    {
     "data": {
      "image/png": "[encoded data removed]",
      "text/plain": [
       "<Figure size 259.2x432 with 1 Axes>"
      ]
     },
     "metadata": {
      "needs_background": "light"
     },
     "output_type": "display_data"
    },
    {
     "data": {
      "image/png": "[encoded data removed]",
      "text/plain": [
       "<Figure size 259.2x432 with 1 Axes>"
      ]
     },
     "metadata": {
      "needs_background": "light"
     },
     "output_type": "display_data"
    },
    {
     "data": {
      "image/png": "[encoded data removed]",
      "text/plain": [
       "<Figure size 259.2x432 with 1 Axes>"
      ]
     },
     "metadata": {
      "needs_background": "light"
     },
     "output_type": "display_data"
    },
    {
     "data": {
      "image/png": "[encoded data removed]",
      "text/plain": [
       "<Figure size 259.2x432 with 1 Axes>"
      ]
     },
     "metadata": {
      "needs_background": "light"
     },
     "output_type": "display_data"
    },
    {
     "data": {
      "image/png": "[encoded data removed]",
      "text/plain": [
       "<Figure size 259.2x432 with 1 Axes>"
      ]
     },
     "metadata": {
      "needs_background": "light"
     },
     "output_type": "display_data"
    }
   ],
   "source": [
    "# Numeric Variable Visualizations\n",
    "\n",
    "fig, ax = plt.subplots(2, 2, figsize=(11, 11))\n",
    "\n",
    "for var, subplot in zip(numeric_variables, ax.flatten()):\n",
    "         sns.boxplot(x = 'Survived', y = var, data=titanic_training_data_cleaned, ax=subplot)\n",
    "\n",
    "fig.tight_layout()\n",
    "\n",
    "# Indicator Variable Visualizations\n",
    "\n",
    "for var, subplot in zip(indicator_variables, ax.flatten()):\n",
    "    g = sns.catplot(\n",
    "        data = titanic_training_data_cleaned, \n",
    "        x = var, \n",
    "        y = \"Survived\",\n",
    "        kind = \"bar\",\n",
    "        height = 6,\n",
    "        aspect = 0.6,\n",
    "        ci = None)\n",
    "\n",
    "    g.set_axis_labels(var, \"Proportion That Survived\")\n",
    "    g.set(ylim = (0,1))\n",
    "\n",
    "fig.tight_layout()\n",
    "\n",
    "\n",
    "\n",
    "# Categorical Variable Visualizations\n",
    "for var, subplot in zip(categorical_variables, ax.flatten()):\n",
    "    g = sns.catplot(\n",
    "        data = titanic_training_data_cleaned, \n",
    "        x = var, \n",
    "        y = \"Survived\",\n",
    "        kind = \"bar\",\n",
    "        height = 6,\n",
    "        aspect = 0.6,\n",
    "        ci = None)\n",
    "\n",
    "    g.set_axis_labels(var, \"Proportion That Survived\")\n",
    "    g.set(ylim = (0,1))\n",
    "\n",
    "fig.tight_layout()\n",
    "\n",
    "\n"
   ]
  },
  {
   "cell_type": "markdown",
   "id": "1fc3993b",
   "metadata": {},
   "source": [
    "### Random Forest"
   ]
  },
  {
   "cell_type": "markdown",
   "id": "746cc763",
   "metadata": {},
   "source": [
    "First, we need to conduct data cleaning exercises that will be needed only for the Random Forest data model.  We will complete these exercises in a copy of the training dataset so that we don't impact other subsequent data anlayses."
   ]
  },
  {
   "cell_type": "code",
   "execution_count": 11,
   "id": "e49f318d",
   "metadata": {},
   "outputs": [],
   "source": [
    "# Create a copy of the training dataset\n",
    "rf_training_validation_df = titanic_training_data_cleaned.copy(deep=True)\n",
    "\n",
    "# Drop variables from the training dataset that we do not want to be included in the Random Forest model\n",
    "rf_training_validation_df.drop(['PassengerId', 'Name', 'Ticket'], axis=1, inplace=True)\n",
    "\n",
    "# Encode the sex and embarked variables\n",
    "rf_training_validation_df['Female_Indicator'] = np.where(rf_training_validation_df['Sex'] == 'female', 1, 0)\n",
    "rf_training_validation_df.drop(['Sex'], axis=1, inplace=True)\n",
    "\n",
    "rf_training_validation_df['Embarked_C_Indicator'] = np.where(rf_training_validation_df['Embarked'] == 'C', 1, 0)\n",
    "rf_training_validation_df['Embarked_Q_Indicator'] = np.where(rf_training_validation_df['Embarked'] == 'Q', 1, 0)\n",
    "rf_training_validation_df.drop(['Embarked'], axis=1, inplace=True)"
   ]
  },
  {
   "cell_type": "markdown",
   "id": "db9169e4",
   "metadata": {},
   "source": [
    "Next, we will use our training and validation datasets to conduct hyperparameter tuning to find the best hyperparameters for random forest modeling."
   ]
  },
  {
   "cell_type": "code",
   "execution_count": 12,
   "id": "0444a08a",
   "metadata": {},
   "outputs": [
    {
     "data": {
      "text/plain": [
       "RandomizedSearchCV(cv=5, estimator=RandomForestClassifier(), n_iter=5,\n",
       "                   param_distributions={'criterion': ('gini', 'entropy'),\n",
       "                                        'max_depth': <scipy.stats._distn_infrastructure.rv_discrete_frozen object at 0x0000026E20F9C4C0>,\n",
       "                                        'max_features': <scipy.stats._distn_infrastructure.rv_discrete_frozen object at 0x0000026E22B3A550>,\n",
       "                                        'n_estimators': <scipy.stats._distn_infrastructure.rv_discrete_frozen object at 0x0000026E2106FE80>})"
      ]
     },
     "execution_count": 12,
     "metadata": {},
     "output_type": "execute_result"
    },
    {
     "name": "stdout",
     "output_type": "stream",
     "text": [
      "Best hyperparameters: {'criterion': 'gini', 'max_depth': 8, 'max_features': 4, 'n_estimators': 442}\n"
     ]
    }
   ],
   "source": [
    "\n",
    "# Import Required Modules\n",
    "#pip install graphviz\n",
    "import pandas as pd\n",
    "import numpy as np\n",
    "from sklearn.ensemble import RandomForestClassifier\n",
    "from sklearn.metrics import accuracy_score, confusion_matrix, precision_score, recall_score, ConfusionMatrixDisplay\n",
    "from sklearn.model_selection import RandomizedSearchCV, train_test_split\n",
    "from scipy.stats import randint\n",
    "from sklearn.tree import export_graphviz\n",
    "from IPython.display import Image\n",
    "import graphviz\n",
    "\n",
    "# Split the training dataset into predictor and outcome components\n",
    "rf_train_validation_x = rf_training_validation_df.drop('Survived', axis=1)\n",
    "rf_train_validation_y = rf_training_validation_df['Survived']\n",
    "\n",
    "# Split the Kaggle Titanic training data into training and validation components\n",
    "rf_x_train, rf_x_validation, rf_y_train, rf_y_validation = train_test_split(rf_train_validation_x,\n",
    "                                                                      rf_train_validation_y, \n",
    "                                                                            test_size=0.2, \n",
    "                                                                           random_state = 1)\n",
    "\n",
    "# Conduct hyperparameter tuning for random forest models\n",
    "param_dist = {'n_estimators': randint(10,500),\n",
    "              'max_depth': randint(1,20),\n",
    "             'max_features': randint(1,11),\n",
    "             'criterion': (\"gini\", \"entropy\")}\n",
    "\n",
    "rf = RandomForestClassifier()\n",
    "\n",
    "rand_search = RandomizedSearchCV(rf, \n",
    "                                 param_distributions = param_dist, \n",
    "                                 n_iter=5, \n",
    "                                 cv=5)\n",
    "\n",
    "rand_search.fit(rf_x_train, rf_y_train)\n",
    "\n",
    "# Create a variable for the best model\n",
    "best_rf = rand_search.best_estimator_\n",
    "\n",
    "# Print the best hyperparameters\n",
    "print('Best hyperparameters:',  rand_search.best_params_)"
   ]
  },
  {
   "cell_type": "markdown",
   "id": "6442c218",
   "metadata": {},
   "source": [
    "Next, we will assess the strength of the random forest model associated with the optimal hyperparameters by applying the model to the validation dataset and observing the resulting confusion matrix, accuracy, precision, and recall."
   ]
  },
  {
   "cell_type": "code",
   "execution_count": 13,
   "id": "55b8059e",
   "metadata": {},
   "outputs": [
    {
     "data": {
      "text/plain": [
       "<sklearn.metrics._plot.confusion_matrix.ConfusionMatrixDisplay at 0x26e22b86610>"
      ]
     },
     "execution_count": 13,
     "metadata": {},
     "output_type": "execute_result"
    },
    {
     "name": "stdout",
     "output_type": "stream",
     "text": [
      "Accuracy: 0.7877094972067039\n",
      "Precision: 0.8571428571428571\n",
      "Recall: 0.5753424657534246\n"
     ]
    },
    {
     "data": {
      "image/png": "[encoded data removed]",
      "text/plain": [
       "<Figure size 432x288 with 2 Axes>"
      ]
     },
     "metadata": {
      "needs_background": "light"
     },
     "output_type": "display_data"
    }
   ],
   "source": [
    "\n",
    "# Generate predictions with the best model\n",
    "y_validation_predictions_rf = best_rf.predict(rf_x_validation)\n",
    "\n",
    "# Create the confusion matrix associated with the best random forest model\n",
    "cm = confusion_matrix(rf_y_validation, y_validation_predictions_rf)\n",
    "\n",
    "ConfusionMatrixDisplay(confusion_matrix=cm).plot();\n",
    "\n",
    "# Calculate the accuracy, precision, and recall associated with the predictions of the best random forest model\n",
    "\n",
    "accuracy_rf_validation = accuracy_score(rf_y_validation, y_validation_predictions_rf)\n",
    "precision_rf_validation = precision_score(rf_y_validation, y_validation_predictions_rf)\n",
    "recall_rf_validation = recall_score(rf_y_validation, y_validation_predictions_rf)\n",
    "\n",
    "print(\"Accuracy:\", accuracy_rf_validation)\n",
    "print(\"Precision:\", precision_rf_validation)\n",
    "print(\"Recall:\", recall_rf_validation)\n"
   ]
  },
  {
   "cell_type": "markdown",
   "id": "d0731346",
   "metadata": {},
   "source": [
    "Next, we will visually display the variable importance metrics elicited from the random forest models associated with the optimal hyperparameter values."
   ]
  },
  {
   "cell_type": "code",
   "execution_count": 14,
   "id": "de41ff8c",
   "metadata": {
    "scrolled": true
   },
   "outputs": [
    {
     "data": {
      "text/plain": [
       "<Figure size 864x504 with 0 Axes>"
      ]
     },
     "execution_count": 14,
     "metadata": {},
     "output_type": "execute_result"
    },
    {
     "data": {
      "text/plain": [
       "<Axes: >"
      ]
     },
     "execution_count": 14,
     "metadata": {},
     "output_type": "execute_result"
    },
    {
     "data": {
      "text/plain": [
       "Text(0.5, 1.0, 'Random Forest Model - Feature Importances ')"
      ]
     },
     "execution_count": 14,
     "metadata": {},
     "output_type": "execute_result"
    },
    {
     "data": {
      "image/png": "[encoded data removed]",
      "text/plain": [
       "<Figure size 864x504 with 1 Axes>"
      ]
     },
     "metadata": {
      "needs_background": "light"
     },
     "output_type": "display_data"
    }
   ],
   "source": [
    "\n",
    "# Plot a bar chart to display variable importances in the random forest models associated with the best hyperparameters\n",
    "feature_importances_rf_train = pd.Series(best_rf.feature_importances_, index=rf_train_validation_x.columns).sort_values(ascending=False)\n",
    "\n",
    "plt.figure(figsize=(12,7))\n",
    "\n",
    "feature_importances_rf_train.plot.bar()\n",
    "\n",
    "plt.title(\"Random Forest Model - Feature Importances \")\n"
   ]
  },
  {
   "cell_type": "markdown",
   "id": "ae66bc8c",
   "metadata": {},
   "source": [
    "## Gradient Boosted Trees"
   ]
  },
  {
   "cell_type": "markdown",
   "id": "939c7648",
   "metadata": {},
   "source": [
    "First, set up the dataset using the rf_training_validation_df that was used to fit the random forest model"
   ]
  },
  {
   "cell_type": "code",
   "execution_count": 15,
   "id": "9e5c4051",
   "metadata": {},
   "outputs": [],
   "source": [
    "from sklearn.ensemble import GradientBoostingClassifier\n",
    "from xgboost import XGBClassifier\n",
    "from sklearn.metrics import accuracy_score\n",
    "from sklearn.model_selection import KFold, cross_val_score\n",
    "from sklearn.model_selection import GridSearchCV\n",
    "\n",
    "# Seperate the predictor variables from the the outcome variable\n",
    "gbtrees_X = rf_training_validation_df.drop('Survived', axis=1)\n",
    "gbtress_y = rf_training_validation_df['Survived']"
   ]
  },
  {
   "cell_type": "markdown",
   "id": "41b8be3f",
   "metadata": {},
   "source": [
    "First, let’s go through a simple classification example, using decision trees as the base predictors - this is the basis of an ensemble classification method so we can compare results from this simple example, manually building an ensemble to using GradientBoostingClassifier and XGBClassifier to train the ensembles more easily."
   ]
  },
  {
   "cell_type": "markdown",
   "id": "77ad8a81",
   "metadata": {},
   "source": [
    "### Manual Ensemble Example"
   ]
  },
  {
   "cell_type": "code",
   "execution_count": 16,
   "id": "f4647145",
   "metadata": {},
   "outputs": [
    {
     "data": {
      "text/plain": [
       "DecisionTreeClassifier(max_depth=2, random_state=1)"
      ]
     },
     "execution_count": 16,
     "metadata": {},
     "output_type": "execute_result"
    },
    {
     "name": "stdout",
     "output_type": "stream",
     "text": [
      "\n",
      "accuracy_score of tree model 1:  0.7867564534231201\n"
     ]
    },
    {
     "data": {
      "text/plain": [
       "DecisionTreeClassifier(max_depth=2, random_state=1)"
      ]
     },
     "execution_count": 16,
     "metadata": {},
     "output_type": "execute_result"
    },
    {
     "name": "stdout",
     "output_type": "stream",
     "text": [
      "\n",
      "accuracy_score of tree model 2:  0.6475869809203143\n"
     ]
    },
    {
     "data": {
      "text/plain": [
       "DecisionTreeClassifier(max_depth=2, random_state=1)"
      ]
     },
     "execution_count": 16,
     "metadata": {},
     "output_type": "execute_result"
    },
    {
     "name": "stdout",
     "output_type": "stream",
     "text": [
      "\n",
      "accuracy_score of tree model 3:  0.6105499438832772\n",
      "\n",
      "accuracy_score of ensemble:  0.8092031425364759\n"
     ]
    }
   ],
   "source": [
    "import numpy as np\n",
    "from sklearn.tree import DecisionTreeClassifier\n",
    "\n",
    "# fit a DecisionTreeRegressor, using default untuned parameters and max_depth=2\n",
    "tree_model = DecisionTreeClassifier(max_depth=2, random_state=1)\n",
    "tree_model.fit(gbtrees_X, gbtress_y)\n",
    "y_pred1 = tree_model.predict(gbtrees_X)\n",
    "\n",
    "# Accuracy Score of tree model 1\n",
    "accuracy = accuracy_score(gbtress_y,y_pred1)\n",
    "print('\\naccuracy_score of tree model 1: ', accuracy)\n",
    "\n",
    "# train a second DecisionTreeRegressor on the residual errors made by the first predictor:\n",
    "gbtress_y2 = gbtress_y - y_pred1\n",
    "tree_model2 = DecisionTreeClassifier(max_depth=2, random_state=1)\n",
    "tree_model2.fit(gbtrees_X, gbtress_y2)\n",
    "y_pred2 = tree_model2.predict(gbtrees_X)\n",
    "\n",
    "# Accuracy Score of tree model 2\n",
    "accuracy = accuracy_score(gbtress_y,y_pred2)\n",
    "print('\\naccuracy_score of tree model 2: ', accuracy)\n",
    "\n",
    "# And then we’ll train a third regressor on the residual errors made by the second predictor\n",
    "gbtress_y3 = gbtress_y2 - y_pred2\n",
    "tree_model3 = DecisionTreeClassifier(max_depth=2, random_state=1)\n",
    "tree_model3.fit(gbtrees_X, gbtress_y3)\n",
    "y_pred3 = tree_model3.predict(gbtrees_X)\n",
    "\n",
    "# Accuracy Score of tree model 3\n",
    "accuracy = accuracy_score(gbtress_y,y_pred3)\n",
    "print('\\naccuracy_score of tree model 3: ', accuracy)\n",
    "\n",
    "\n",
    "\n",
    "# ensemble containing three trees. It can make predictions on a new instance simply by adding up the predictions of all the trees\n",
    "y_pred = sum(tree.predict(gbtrees_X) for tree in (tree_model, tree_model2, tree_model3))\n",
    "\n",
    "\n",
    "# Accuracy Score of model\n",
    "accuracy = accuracy_score(gbtress_y,y_pred)\n",
    "print('\\naccuracy_score of ensemble: ', accuracy)"
   ]
  },
  {
   "cell_type": "markdown",
   "id": "be2f584e",
   "metadata": {},
   "source": [
    "We see an accuracy score of 0.809 in this manual ensemble classification example with 3 trees and no hyperparameter tuning."
   ]
  },
  {
   "cell_type": "markdown",
   "id": "79100c43",
   "metadata": {},
   "source": [
    "### Gradient Boosting Classifier and XGBoost Classifier"
   ]
  },
  {
   "cell_type": "markdown",
   "id": "318a12e8",
   "metadata": {},
   "source": [
    "#### WORK IN PROGRESS......"
   ]
  },
  {
   "cell_type": "markdown",
   "id": "776ef494",
   "metadata": {},
   "source": [
    "Let's use now use a Gradient Boosting Classifier and XGBoost Classifier with hyperparamter tuning to build new classification models.\n"
   ]
  },
  {
   "cell_type": "markdown",
   "id": "575ee363",
   "metadata": {},
   "source": [
    "boosting specific parameters to tune:\n",
    "1. n_estimators\n",
    "2. Learning rate\n",
    "3. subsample\n",
    "\n",
    "tree specific parameters to tune:\n",
    "1. max_depth\n",
    "2. min_samples_split\n",
    "3. min_samples_leaf\n",
    "4. max_features"
   ]
  },
  {
   "cell_type": "code",
   "execution_count": 17,
   "id": "3ddb9111",
   "metadata": {},
   "outputs": [
    {
     "name": "stdout",
     "output_type": "stream",
     "text": [
      "Fitting 10 folds for each of 72 candidates, totalling 720 fits\n"
     ]
    },
    {
     "data": {
      "text/plain": [
       "GridSearchCV(cv=KFold(n_splits=10, random_state=1, shuffle=True),\n",
       "             estimator=GradientBoostingClassifier(random_state=1), n_jobs=-1,\n",
       "             param_grid={'learning_rate': [0.01, 0.1, 0.5],\n",
       "                         'max_depth': [4, 6, 8, 10],\n",
       "                         'n_estimators': [80, 100, 200],\n",
       "                         'subsample': [0.8, 1]},\n",
       "             scoring='accuracy', verbose=1)"
      ]
     },
     "execution_count": 17,
     "metadata": {},
     "output_type": "execute_result"
    },
    {
     "name": "stdout",
     "output_type": "stream",
     "text": [
      "Gradient Boosting...\n",
      "\n",
      "Gradient Boost accuracy score:  0.821598002496879\n",
      "\n",
      "Gradient Boost parameters:  {'learning_rate': 0.01, 'max_depth': 4, 'n_estimators': 200, 'subsample': 0.8}\n"
     ]
    }
   ],
   "source": [
    "# Gradient boosting tunning\n",
    "gb_model = GradientBoostingClassifier(random_state = 1)\n",
    "\n",
    "# Set up 10-fold cross-validation to find the best hyperparameters from the grid below\n",
    "cv = KFold(n_splits=10, random_state=1, shuffle=True)\n",
    "gb_param_grid = {\n",
    "              # Boosting Parameters\n",
    "              'n_estimators' : [80,100,200], ### number of sequential trees to be modeled\n",
    "              'learning_rate': [0.01, 0.1, 0.5], ### impact of each tree on the final outcome \n",
    "              'subsample': [0.8,1], # fraction of observations to be selected for each tree\n",
    "              \n",
    "              # Tree-Specific Parameters\n",
    "              'max_depth': [4, 6, 8, 10], ### maximum depth of a tree\n",
    "              #'min_samples_split': [50,100,150,200], ### minimum samples (or observations) required in a node to be considered for splitting\n",
    "              #'min_samples_leaf': [100,150], ### minimum samples (or observations) required in a terminal node\n",
    "              #'max_features': [1,2,3] ### number of features to consider while searching for a best split\n",
    "              }\n",
    "\n",
    "# set GridSearchCV parameters\n",
    "gb = GridSearchCV(gb_model,param_grid = gb_param_grid, cv=cv, scoring=\"accuracy\", n_jobs= -1, verbose = 1)\n",
    "# fit the model using parms from GridSearch\n",
    "gb.fit(gbtrees_X, gbtress_y)\n",
    "\n",
    "# Create a variable for the best model\n",
    "gb_tuned_model = gb.best_estimator_\n",
    "\n",
    "print('Gradient Boosting...')\n",
    "print('\\nGradient Boost accuracy score: ', gb.best_score_)\n",
    "print('\\nGradient Boost parameters: ', gb.best_params_)"
   ]
  },
  {
   "cell_type": "code",
   "execution_count": 49,
   "id": "51fd1389",
   "metadata": {},
   "outputs": [
    {
     "data": {
      "text/plain": [
       "GradientBoostingClassifier(learning_rate=0.01, max_depth=4, n_estimators=200,\n",
       "                           random_state=1, subsample=0.8)"
      ]
     },
     "execution_count": 49,
     "metadata": {},
     "output_type": "execute_result"
    },
    {
     "data": {
      "text/plain": [
       "<Figure size 864x360 with 0 Axes>"
      ]
     },
     "execution_count": 49,
     "metadata": {},
     "output_type": "execute_result"
    },
    {
     "data": {
      "text/plain": [
       "(array([ 0,  1,  2,  3,  4,  5,  6,  7,  8,  9, 10]),\n",
       " [Text(0, 0, 'Female_Indicator'),\n",
       "  Text(1, 0, 'Fare'),\n",
       "  Text(2, 0, 'Pclass'),\n",
       "  Text(3, 0, 'Age'),\n",
       "  Text(4, 0, 'Cabin_Data_Indicator'),\n",
       "  Text(5, 0, 'SibSp'),\n",
       "  Text(6, 0, 'Deck'),\n",
       "  Text(7, 0, 'Parch'),\n",
       "  Text(8, 0, 'Embarked_Q_Indicator'),\n",
       "  Text(9, 0, 'Embarked_C_Indicator'),\n",
       "  Text(10, 0, 'Child_Indicator')])"
      ]
     },
     "execution_count": 49,
     "metadata": {},
     "output_type": "execute_result"
    },
    {
     "data": {
      "text/plain": [
       "Text(0.5, 1.0, 'Gradient Boosting Classifier Feature importance')"
      ]
     },
     "execution_count": 49,
     "metadata": {},
     "output_type": "execute_result"
    },
    {
     "data": {
      "image/png": "[encoded data removed]",
      "text/plain": [
       "<Figure size 864x360 with 1 Axes>"
      ]
     },
     "metadata": {},
     "output_type": "display_data"
    }
   ],
   "source": [
    "# Calculate feature importances\n",
    "importances = gb_tuned_model.feature_importances_\n",
    "\n",
    "# Visualize Feature Importance\n",
    "# Sort feature importances in descending order\n",
    "indices = np.argsort(importances)[::-1]\n",
    "\n",
    "# Rearrange feature names so they match the sorted feature importances\n",
    "names = [gbtrees_X.columns[i] for i in indices]\n",
    "\n",
    "plt.figure(figsize = (12, 5))\n",
    "sns.set_style(\"whitegrid\")\n",
    "chart = sns.barplot(x = names, y=importances[indices])\n",
    "plt.xticks(rotation=45, horizontalalignment='right', fontweight='light')\n",
    "plt.title('Gradient Boosting Classifier Feature importance')\n",
    "plt.tight_layout()"
   ]
  },
  {
   "cell_type": "markdown",
   "id": "697dbb61",
   "metadata": {},
   "source": [
    "We can see that female indicator, fare, pclass, and age appear to be the most important predictors of survival in this model"
   ]
  },
  {
   "cell_type": "markdown",
   "id": "64cbe731",
   "metadata": {},
   "source": [
    "Calculate ROC and precision-recall curves for the model"
   ]
  },
  {
   "cell_type": "code",
   "execution_count": 52,
   "id": "f4ea707f",
   "metadata": {},
   "outputs": [
    {
     "name": "stdout",
     "output_type": "stream",
     "text": [
      "Score: 0.8653198653198653\n"
     ]
    },
    {
     "data": {
      "text/plain": [
       "<sklearn.metrics._plot.confusion_matrix.ConfusionMatrixDisplay at 0x26e2046d790>"
      ]
     },
     "execution_count": 52,
     "metadata": {},
     "output_type": "execute_result"
    },
    {
     "data": {
      "text/plain": [
       "Text(0.5, 1.0, 'Gradient Boosting ROC Curve')"
      ]
     },
     "execution_count": 52,
     "metadata": {},
     "output_type": "execute_result"
    },
    {
     "name": "stdout",
     "output_type": "stream",
     "text": [
      "The roc auc score is: 0.9282427379925222\n"
     ]
    },
    {
     "data": {
      "text/plain": [
       "Text(0.5, 1.0, 'Gradient Boosting Precision-Recall Curve')"
      ]
     },
     "execution_count": 52,
     "metadata": {},
     "output_type": "execute_result"
    },
    {
     "name": "stdout",
     "output_type": "stream",
     "text": [
      "The prec-recall auc score is: 0.9151854117222266\n"
     ]
    },
    {
     "data": {
      "image/png": "[encoded data removed]",
      "text/plain": [
       "<Figure size 432x288 with 2 Axes>"
      ]
     },
     "metadata": {},
     "output_type": "display_data"
    },
    {
     "data": {
      "image/png": "[encoded data removed]",
      "text/plain": [
       "<Figure size 432x288 with 1 Axes>"
      ]
     },
     "metadata": {},
     "output_type": "display_data"
    },
    {
     "data": {
      "image/png": "[encoded data removed]",
      "text/plain": [
       "<Figure size 432x288 with 1 Axes>"
      ]
     },
     "metadata": {},
     "output_type": "display_data"
    }
   ],
   "source": [
    "from sklearn.metrics import roc_auc_score\n",
    "from sklearn.metrics import RocCurveDisplay\n",
    "from sklearn.metrics import precision_recall_curve, auc\n",
    "from sklearn.metrics import PrecisionRecallDisplay\n",
    "from sklearn.metrics import confusion_matrix, ConfusionMatrixDisplay, roc_curve\n",
    "\n",
    "print('Score:',gb_tuned_model.score(gbtrees_X, gbtress_y))\n",
    "\n",
    "predictions = gb_tuned_model.predict(gbtrees_X)\n",
    "probabilities = gb_tuned_model.predict_proba(gbtrees_X)[:,1]\n",
    "\n",
    "# Confusion\n",
    "cm = confusion_matrix(gbtress_y, predictions)\n",
    "disp = ConfusionMatrixDisplay(confusion_matrix=cm, display_labels=['Did not survive','Survived'])\n",
    "disp.plot()\n",
    "\n",
    "\n",
    "# Curves\n",
    "\n",
    "fpr, tpr, _ = roc_curve(gbtress_y, probabilities)\n",
    "roc_display = RocCurveDisplay(fpr=fpr, tpr=tpr).plot()\n",
    "plt.title('Gradient Boosting ROC Curve')\n",
    "# roc auc score\n",
    "auc1 = roc_auc_score(gbtress_y, probabilities)\n",
    "print(\"The roc auc score is:\", auc1)\n",
    "\n",
    "prec, recall, _ = precision_recall_curve(gbtress_y, probabilities)\n",
    "pr_display = PrecisionRecallDisplay(precision=prec, recall=recall).plot()\n",
    "plt.title('Gradient Boosting Precision-Recall Curve')# precision-recall auc score\n",
    "auc2 = auc(recall, prec)\n",
    "print(\"The prec-recall auc score is:\", auc2)"
   ]
  },
  {
   "cell_type": "markdown",
   "id": "cd35e55e",
   "metadata": {},
   "source": [
    "We suspect that the model is overfitting the data, given the high accuracy and AUC scores for the ROC and precision-recall curves"
   ]
  },
  {
   "cell_type": "code",
   "execution_count": 63,
   "id": "31dbdf56",
   "metadata": {},
   "outputs": [
    {
     "name": "stdout",
     "output_type": "stream",
     "text": [
      "Fitting 10 folds for each of 162 candidates, totalling 1620 fits\n"
     ]
    },
    {
     "data": {
      "text/plain": [
       "GridSearchCV(cv=KFold(n_splits=10, random_state=1, shuffle=True),\n",
       "             estimator=XGBClassifier(base_score=None, booster=None,\n",
       "                                     callbacks=None, colsample_bylevel=None,\n",
       "                                     colsample_bynode=None,\n",
       "                                     colsample_bytree=None,\n",
       "                                     early_stopping_rounds=None,\n",
       "                                     enable_categorical=False, eval_metric=None,\n",
       "                                     feature_types=None, gamma=None,\n",
       "                                     gpu_id=None, grow_policy=None,\n",
       "                                     importance_type=None,\n",
       "                                     int...\n",
       "                                     max_delta_step=None, max_depth=None,\n",
       "                                     max_leaves=None, min_child_weight=None,\n",
       "                                     missing=nan, monotone_constraints=None,\n",
       "                                     n_estimators=100, n_jobs=None,\n",
       "                                     num_parallel_tree=None, predictor=None,\n",
       "                                     random_state=1, ...),\n",
       "             n_jobs=-1,\n",
       "             param_grid={'gamma': [0, 0.4, 0.8],\n",
       "                         'learning_rate': [0.01, 0.1, 0.5],\n",
       "                         'max_depth': [2, 4, 6], 'reg_alpha': [0.1, 1],\n",
       "                         'reg_lambda': [0, 0.1, 1]},\n",
       "             scoring='accuracy', verbose=1)"
      ]
     },
     "execution_count": 63,
     "metadata": {},
     "output_type": "execute_result"
    },
    {
     "name": "stdout",
     "output_type": "stream",
     "text": [
      "Gradient Boosting...\n",
      "\n",
      "Gradient Boost accuracy score:  0.8271785268414483\n",
      "\n",
      "Gradient Boost parameters:  {'gamma': 0.4, 'learning_rate': 0.01, 'max_depth': 6, 'reg_alpha': 0.1, 'reg_lambda': 0.1}\n"
     ]
    }
   ],
   "source": [
    "# XGBoost boosting tunning\n",
    "xgb_model = XGBClassifier(random_state = 1)\n",
    "\n",
    "\n",
    "# Set up 10-fold cross-validation to find the best hyperparameters from the grid below\n",
    "cv = KFold(n_splits=10, random_state=1, shuffle=True)\n",
    "xgb_param_grid = {\n",
    "                'learning_rate' : [0.01, 0.1, 0.5],\n",
    "                'gamma'         : [0, 0.4, 0.8],\n",
    "                'max_depth'     : [2, 4, 6],\n",
    "                'reg_lambda'    : [0, 0.1, 1],\n",
    "                'reg_alpha'     : [0.1, 1]\n",
    "              }\n",
    "\n",
    "\n",
    "# set GridSearchCV parameters\n",
    "xgb = GridSearchCV(xgb_model,param_grid = xgb_param_grid, cv=cv, scoring=\"accuracy\", n_jobs= -1, verbose = 1)\n",
    "\n",
    "# fit the model using parms from GridSearch\n",
    "xgb.fit(gbtrees_X, gbtress_y)\n",
    "\n",
    "# Create a variable for the best model\n",
    "xgb_tuned_model = xgb.best_estimator_\n",
    "\n",
    "print('Gradient Boosting...')\n",
    "print('\\nGradient Boost accuracy score: ', xgb.best_score_)\n",
    "print('\\nGradient Boost parameters: ', xgb.best_params_)"
   ]
  },
  {
   "cell_type": "code",
   "execution_count": 64,
   "id": "43992ce8",
   "metadata": {},
   "outputs": [
    {
     "data": {
      "text/plain": [
       "<Figure size 864x360 with 0 Axes>"
      ]
     },
     "execution_count": 64,
     "metadata": {},
     "output_type": "execute_result"
    },
    {
     "data": {
      "text/plain": [
       "(array([ 0,  1,  2,  3,  4,  5,  6,  7,  8,  9, 10]),\n",
       " [Text(0, 0, 'Female_Indicator'),\n",
       "  Text(1, 0, 'Pclass'),\n",
       "  Text(2, 0, 'Cabin_Data_Indicator'),\n",
       "  Text(3, 0, 'SibSp'),\n",
       "  Text(4, 0, 'Fare'),\n",
       "  Text(5, 0, 'Age'),\n",
       "  Text(6, 0, 'Parch'),\n",
       "  Text(7, 0, 'Embarked_Q_Indicator'),\n",
       "  Text(8, 0, 'Deck'),\n",
       "  Text(9, 0, 'Embarked_C_Indicator'),\n",
       "  Text(10, 0, 'Child_Indicator')])"
      ]
     },
     "execution_count": 64,
     "metadata": {},
     "output_type": "execute_result"
    },
    {
     "data": {
      "text/plain": [
       "Text(0.5, 1.0, 'XGBoost. Feature importance')"
      ]
     },
     "execution_count": 64,
     "metadata": {},
     "output_type": "execute_result"
    },
    {
     "data": {
      "image/png": "[encoded data removed]",
      "text/plain": [
       "<Figure size 864x360 with 1 Axes>"
      ]
     },
     "metadata": {},
     "output_type": "display_data"
    }
   ],
   "source": [
    "# Calculate feature importances\n",
    "importances = xgb_tuned_model.feature_importances_\n",
    "\n",
    "# Visualize Feature Importance\n",
    "# Sort feature importances in descending order\n",
    "indices = np.argsort(importances)[::-1]\n",
    "\n",
    "# Rearrange feature names so they match the sorted feature importances\n",
    "names = [gbtrees_X.columns[i] for i in indices]\n",
    "\n",
    "plt.figure(figsize = (12, 5))\n",
    "sns.set_style(\"whitegrid\")\n",
    "chart = sns.barplot(x = names, y=importances[indices])\n",
    "plt.xticks(rotation=45, horizontalalignment='right', fontweight='light')\n",
    "plt.title('XGBoost. Feature importance')\n",
    "plt.tight_layout()"
   ]
  },
  {
   "cell_type": "markdown",
   "id": "1dd569c9",
   "metadata": {},
   "source": [
    "We can see the female indicator is by far the most important predictor of survival in this model."
   ]
  },
  {
   "cell_type": "markdown",
   "id": "6830e76f",
   "metadata": {},
   "source": [
    "Calculate ROC and precision-recall curves for the model"
   ]
  },
  {
   "cell_type": "code",
   "execution_count": 65,
   "id": "baba9160",
   "metadata": {},
   "outputs": [
    {
     "name": "stdout",
     "output_type": "stream",
     "text": [
      "The accuracy score is: 0.8698092031425365\n"
     ]
    },
    {
     "data": {
      "text/plain": [
       "<sklearn.metrics._plot.confusion_matrix.ConfusionMatrixDisplay at 0x26e2b8a9640>"
      ]
     },
     "execution_count": 65,
     "metadata": {},
     "output_type": "execute_result"
    },
    {
     "data": {
      "text/plain": [
       "Text(0.5, 1.0, 'Gradient Boosting ROC Curve')"
      ]
     },
     "execution_count": 65,
     "metadata": {},
     "output_type": "execute_result"
    },
    {
     "name": "stdout",
     "output_type": "stream",
     "text": [
      "The roc auc score is: 0.9358722397980379\n"
     ]
    },
    {
     "data": {
      "text/plain": [
       "Text(0.5, 1.0, 'Gradient Boosting Precision-Recall Curve')"
      ]
     },
     "execution_count": 65,
     "metadata": {},
     "output_type": "execute_result"
    },
    {
     "name": "stdout",
     "output_type": "stream",
     "text": [
      "The prec-recall auc score is: 0.9238202658132498\n"
     ]
    },
    {
     "data": {
      "image/png": "[encoded data removed]",
      "text/plain": [
       "<Figure size 432x288 with 2 Axes>"
      ]
     },
     "metadata": {},
     "output_type": "display_data"
    },
    {
     "data": {
      "image/png": "[encoded data removed]",
      "text/plain": [
       "<Figure size 432x288 with 1 Axes>"
      ]
     },
     "metadata": {},
     "output_type": "display_data"
    },
    {
     "data": {
      "image/png": "[encoded data removed]",
      "text/plain": [
       "<Figure size 432x288 with 1 Axes>"
      ]
     },
     "metadata": {},
     "output_type": "display_data"
    }
   ],
   "source": [
    "from sklearn.metrics import roc_auc_score\n",
    "from sklearn.metrics import RocCurveDisplay\n",
    "from sklearn.metrics import precision_recall_curve, auc\n",
    "from sklearn.metrics import PrecisionRecallDisplay\n",
    "from sklearn.metrics import confusion_matrix, ConfusionMatrixDisplay, roc_curve\n",
    "\n",
    "print('The accuracy score is:', xgb_tuned_model.score(gbtrees_X, gbtress_y))\n",
    "\n",
    "predictions = xgb_tuned_model.predict(gbtrees_X)\n",
    "probabilities = xgb_tuned_model.predict_proba(gbtrees_X)[:,1]\n",
    "\n",
    "# Confusion\n",
    "cm = confusion_matrix(gbtress_y, predictions)\n",
    "disp = ConfusionMatrixDisplay(confusion_matrix=cm, display_labels=['Did not survive','Survived'])\n",
    "disp.plot()\n",
    "\n",
    "\n",
    "# Curves\n",
    "\n",
    "\n",
    "fpr, tpr, _ = roc_curve(gbtress_y, probabilities)\n",
    "roc_display = RocCurveDisplay(fpr=fpr, tpr=tpr).plot()\n",
    "plt.title('Gradient Boosting ROC Curve')\n",
    "# roc auc score\n",
    "auc1 = roc_auc_score(gbtress_y, probabilities)\n",
    "print(\"The roc auc score is:\", auc1)\n",
    "\n",
    "prec, recall, _ = precision_recall_curve(gbtress_y, probabilities)\n",
    "pr_display = PrecisionRecallDisplay(precision=prec, recall=recall).plot()\n",
    "plt.title('Gradient Boosting Precision-Recall Curve')# precision-recall auc score\n",
    "auc2 = auc(recall, prec)\n",
    "print(\"The prec-recall auc score is:\", auc2)"
   ]
  },
  {
   "cell_type": "markdown",
   "id": "01bd043a",
   "metadata": {},
   "source": [
    "## Extra Trees"
   ]
  },
  {
   "cell_type": "markdown",
   "id": "f4c37d60",
   "metadata": {},
   "source": [
    "First we'll setup the needed packages, and then set X and Y"
   ]
  },
  {
   "cell_type": "code",
   "execution_count": 25,
   "id": "bb9160ef",
   "metadata": {},
   "outputs": [],
   "source": [
    "#Load packages\n",
    "from sklearn.ensemble import ExtraTreesClassifier\n",
    "from sklearn.datasets import make_classification\n",
    "from sklearn.model_selection import KFold, cross_val_score\n",
    "from numpy import mean\n",
    "\n",
    "# Split the training dataset into predictor and outcome components\n",
    "extratrees_x = rf_training_validation_df.drop('Survived', axis=1)\n",
    "extratrees_y = rf_training_validation_df['Survived']"
   ]
  },
  {
   "cell_type": "markdown",
   "id": "4748146e",
   "metadata": {},
   "source": [
    " To evaluate the model, we will use 10-fold cross validation with accuracy as the evaluation metric:"
   ]
  },
  {
   "cell_type": "code",
   "execution_count": 26,
   "id": "dc46968e",
   "metadata": {},
   "outputs": [
    {
     "name": "stdout",
     "output_type": "stream",
     "text": [
      "Accuraccy:  0.7946566791510612\n"
     ]
    }
   ],
   "source": [
    "clf = ExtraTreesClassifier(n_estimators=100, random_state=1)\n",
    "# evaluate using cross-validation\n",
    "cv = KFold(n_splits=10, random_state=1, shuffle=True)\n",
    "scores = cross_val_score(clf, extratrees_x, extratrees_y, scoring='accuracy', cv=cv, n_jobs=-1)\n",
    "print('Accuraccy: ', mean(scores))"
   ]
  },
  {
   "cell_type": "code",
   "execution_count": 27,
   "id": "fb09a0a1",
   "metadata": {},
   "outputs": [
    {
     "data": {
      "text/plain": [
       "GridSearchCV(cv=KFold(n_splits=10, random_state=1, shuffle=True),\n",
       "             estimator=ExtraTreesClassifier(),\n",
       "             param_grid={'max_features': [2, 3, 4],\n",
       "                         'min_samples_leaf': [5, 10, 20],\n",
       "                         'n_estimators': [100, 200, 500]})"
      ]
     },
     "execution_count": 27,
     "metadata": {},
     "output_type": "execute_result"
    },
    {
     "name": "stdout",
     "output_type": "stream",
     "text": [
      "ExtraTreesClassifier(max_features=2, min_samples_leaf=10, n_estimators=200)\n"
     ]
    }
   ],
   "source": [
    "from sklearn.model_selection import GridSearchCV\n",
    "cv = KFold(n_splits=10, random_state=1, shuffle=True)\n",
    "parameters = {\n",
    "    'n_estimators' : [100, 200, 500],\n",
    "    'min_samples_leaf': [5,10,20],\n",
    "    'max_features': [2,3,4]\n",
    "\n",
    "}\n",
    "clf = GridSearchCV(ExtraTreesClassifier(), param_grid=parameters, cv=cv)\n",
    "clf.fit(extratrees_x, extratrees_y)\n",
    "print(clf.best_estimator_)"
   ]
  },
  {
   "cell_type": "markdown",
   "id": "d762f37f",
   "metadata": {},
   "source": [
    "The best set of parameters can be selected via GridSearchCV as shown above."
   ]
  },
  {
   "cell_type": "markdown",
   "id": "99c8d43a",
   "metadata": {},
   "source": [
    "<i> need to do some more work here</i> - Manny"
   ]
  },
  {
   "cell_type": "code",
   "execution_count": null,
   "id": "f913597c",
   "metadata": {},
   "outputs": [],
   "source": []
  },
  {
   "cell_type": "code",
   "execution_count": 28,
   "id": "daf30f83",
   "metadata": {},
   "outputs": [
    {
     "name": "stdout",
     "output_type": "stream",
     "text": [
      "[[520  29]\n",
      " [120 222]]\n"
     ]
    }
   ],
   "source": [
    "ypred = clf.predict(extratrees_x)\n",
    "\n",
    "cm = confusion_matrix(extratrees_y, ypred)\n",
    "print(cm)"
   ]
  },
  {
   "cell_type": "markdown",
   "id": "52193698",
   "metadata": {},
   "source": [
    "### Import and Clean Testing Dataset"
   ]
  },
  {
   "cell_type": "markdown",
   "id": "22f1106b",
   "metadata": {},
   "source": [
    "Import the Titanic Testing Dataset"
   ]
  },
  {
   "cell_type": "code",
   "execution_count": 29,
   "id": "54bc31a4",
   "metadata": {},
   "outputs": [
    {
     "data": {
      "text/html": [
       "<div>\n",
       "<style scoped>\n",
       "    .dataframe tbody tr th:only-of-type {\n",
       "        vertical-align: middle;\n",
       "    }\n",
       "\n",
       "    .dataframe tbody tr th {\n",
       "        vertical-align: top;\n",
       "    }\n",
       "\n",
       "    .dataframe thead th {\n",
       "        text-align: right;\n",
       "    }\n",
       "</style>\n",
       "<table border=\"1\" class=\"dataframe\">\n",
       "  <thead>\n",
       "    <tr style=\"text-align: right;\">\n",
       "      <th></th>\n",
       "      <th>PassengerId</th>\n",
       "      <th>Pclass</th>\n",
       "      <th>Name</th>\n",
       "      <th>Sex</th>\n",
       "      <th>Age</th>\n",
       "      <th>SibSp</th>\n",
       "      <th>Parch</th>\n",
       "      <th>Ticket</th>\n",
       "      <th>Fare</th>\n",
       "      <th>Cabin</th>\n",
       "      <th>Embarked</th>\n",
       "    </tr>\n",
       "  </thead>\n",
       "  <tbody>\n",
       "    <tr>\n",
       "      <th>0</th>\n",
       "      <td>892</td>\n",
       "      <td>3</td>\n",
       "      <td>Kelly, Mr. James</td>\n",
       "      <td>male</td>\n",
       "      <td>34.5</td>\n",
       "      <td>0</td>\n",
       "      <td>0</td>\n",
       "      <td>330911</td>\n",
       "      <td>7.8292</td>\n",
       "      <td>NaN</td>\n",
       "      <td>Q</td>\n",
       "    </tr>\n",
       "    <tr>\n",
       "      <th>1</th>\n",
       "      <td>893</td>\n",
       "      <td>3</td>\n",
       "      <td>Wilkes, Mrs. James (Ellen Needs)</td>\n",
       "      <td>female</td>\n",
       "      <td>47.0</td>\n",
       "      <td>1</td>\n",
       "      <td>0</td>\n",
       "      <td>363272</td>\n",
       "      <td>7.0000</td>\n",
       "      <td>NaN</td>\n",
       "      <td>S</td>\n",
       "    </tr>\n",
       "    <tr>\n",
       "      <th>2</th>\n",
       "      <td>894</td>\n",
       "      <td>2</td>\n",
       "      <td>Myles, Mr. Thomas Francis</td>\n",
       "      <td>male</td>\n",
       "      <td>62.0</td>\n",
       "      <td>0</td>\n",
       "      <td>0</td>\n",
       "      <td>240276</td>\n",
       "      <td>9.6875</td>\n",
       "      <td>NaN</td>\n",
       "      <td>Q</td>\n",
       "    </tr>\n",
       "    <tr>\n",
       "      <th>3</th>\n",
       "      <td>895</td>\n",
       "      <td>3</td>\n",
       "      <td>Wirz, Mr. Albert</td>\n",
       "      <td>male</td>\n",
       "      <td>27.0</td>\n",
       "      <td>0</td>\n",
       "      <td>0</td>\n",
       "      <td>315154</td>\n",
       "      <td>8.6625</td>\n",
       "      <td>NaN</td>\n",
       "      <td>S</td>\n",
       "    </tr>\n",
       "    <tr>\n",
       "      <th>4</th>\n",
       "      <td>896</td>\n",
       "      <td>3</td>\n",
       "      <td>Hirvonen, Mrs. Alexander (Helga E Lindqvist)</td>\n",
       "      <td>female</td>\n",
       "      <td>22.0</td>\n",
       "      <td>1</td>\n",
       "      <td>1</td>\n",
       "      <td>3101298</td>\n",
       "      <td>12.2875</td>\n",
       "      <td>NaN</td>\n",
       "      <td>S</td>\n",
       "    </tr>\n",
       "    <tr>\n",
       "      <th>...</th>\n",
       "      <td>...</td>\n",
       "      <td>...</td>\n",
       "      <td>...</td>\n",
       "      <td>...</td>\n",
       "      <td>...</td>\n",
       "      <td>...</td>\n",
       "      <td>...</td>\n",
       "      <td>...</td>\n",
       "      <td>...</td>\n",
       "      <td>...</td>\n",
       "      <td>...</td>\n",
       "    </tr>\n",
       "    <tr>\n",
       "      <th>95</th>\n",
       "      <td>987</td>\n",
       "      <td>3</td>\n",
       "      <td>Tenglin, Mr. Gunnar Isidor</td>\n",
       "      <td>male</td>\n",
       "      <td>25.0</td>\n",
       "      <td>0</td>\n",
       "      <td>0</td>\n",
       "      <td>350033</td>\n",
       "      <td>7.7958</td>\n",
       "      <td>NaN</td>\n",
       "      <td>S</td>\n",
       "    </tr>\n",
       "    <tr>\n",
       "      <th>96</th>\n",
       "      <td>988</td>\n",
       "      <td>1</td>\n",
       "      <td>Cavendish, Mrs. Tyrell William (Julia Florence...</td>\n",
       "      <td>female</td>\n",
       "      <td>76.0</td>\n",
       "      <td>1</td>\n",
       "      <td>0</td>\n",
       "      <td>19877</td>\n",
       "      <td>78.8500</td>\n",
       "      <td>C46</td>\n",
       "      <td>S</td>\n",
       "    </tr>\n",
       "    <tr>\n",
       "      <th>97</th>\n",
       "      <td>989</td>\n",
       "      <td>3</td>\n",
       "      <td>Makinen, Mr. Kalle Edvard</td>\n",
       "      <td>male</td>\n",
       "      <td>29.0</td>\n",
       "      <td>0</td>\n",
       "      <td>0</td>\n",
       "      <td>STON/O 2. 3101268</td>\n",
       "      <td>7.9250</td>\n",
       "      <td>NaN</td>\n",
       "      <td>S</td>\n",
       "    </tr>\n",
       "    <tr>\n",
       "      <th>98</th>\n",
       "      <td>990</td>\n",
       "      <td>3</td>\n",
       "      <td>Braf, Miss. Elin Ester Maria</td>\n",
       "      <td>female</td>\n",
       "      <td>20.0</td>\n",
       "      <td>0</td>\n",
       "      <td>0</td>\n",
       "      <td>347471</td>\n",
       "      <td>7.8542</td>\n",
       "      <td>NaN</td>\n",
       "      <td>S</td>\n",
       "    </tr>\n",
       "    <tr>\n",
       "      <th>99</th>\n",
       "      <td>991</td>\n",
       "      <td>3</td>\n",
       "      <td>Nancarrow, Mr. William Henry</td>\n",
       "      <td>male</td>\n",
       "      <td>33.0</td>\n",
       "      <td>0</td>\n",
       "      <td>0</td>\n",
       "      <td>A./5. 3338</td>\n",
       "      <td>8.0500</td>\n",
       "      <td>NaN</td>\n",
       "      <td>S</td>\n",
       "    </tr>\n",
       "  </tbody>\n",
       "</table>\n",
       "<p>100 rows × 11 columns</p>\n",
       "</div>"
      ],
      "text/plain": [
       "    PassengerId  Pclass                                               Name  \\\n",
       "0           892       3                                   Kelly, Mr. James   \n",
       "1           893       3                   Wilkes, Mrs. James (Ellen Needs)   \n",
       "2           894       2                          Myles, Mr. Thomas Francis   \n",
       "3           895       3                                   Wirz, Mr. Albert   \n",
       "4           896       3       Hirvonen, Mrs. Alexander (Helga E Lindqvist)   \n",
       "..          ...     ...                                                ...   \n",
       "95          987       3                         Tenglin, Mr. Gunnar Isidor   \n",
       "96          988       1  Cavendish, Mrs. Tyrell William (Julia Florence...   \n",
       "97          989       3                          Makinen, Mr. Kalle Edvard   \n",
       "98          990       3                       Braf, Miss. Elin Ester Maria   \n",
       "99          991       3                       Nancarrow, Mr. William Henry   \n",
       "\n",
       "       Sex   Age  SibSp  Parch             Ticket     Fare Cabin Embarked  \n",
       "0     male  34.5      0      0             330911   7.8292   NaN        Q  \n",
       "1   female  47.0      1      0             363272   7.0000   NaN        S  \n",
       "2     male  62.0      0      0             240276   9.6875   NaN        Q  \n",
       "3     male  27.0      0      0             315154   8.6625   NaN        S  \n",
       "4   female  22.0      1      1            3101298  12.2875   NaN        S  \n",
       "..     ...   ...    ...    ...                ...      ...   ...      ...  \n",
       "95    male  25.0      0      0             350033   7.7958   NaN        S  \n",
       "96  female  76.0      1      0              19877  78.8500   C46        S  \n",
       "97    male  29.0      0      0  STON/O 2. 3101268   7.9250   NaN        S  \n",
       "98  female  20.0      0      0             347471   7.8542   NaN        S  \n",
       "99    male  33.0      0      0         A./5. 3338   8.0500   NaN        S  \n",
       "\n",
       "[100 rows x 11 columns]"
      ]
     },
     "execution_count": 29,
     "metadata": {},
     "output_type": "execute_result"
    },
    {
     "data": {
      "text/plain": [
       "(418, 11)"
      ]
     },
     "execution_count": 29,
     "metadata": {},
     "output_type": "execute_result"
    }
   ],
   "source": [
    "import pandas as pd\n",
    "titanic_testing_data = pd.read_csv('test.csv')\n",
    "\n",
    "# show first five rows of the data\n",
    "titanic_testing_data.head(100)\n",
    "# show number of columns and rows\n",
    "titanic_testing_data.shape"
   ]
  },
  {
   "cell_type": "markdown",
   "id": "cde58800",
   "metadata": {},
   "source": [
    "Check the testing dataset for missing values"
   ]
  },
  {
   "cell_type": "code",
   "execution_count": 30,
   "id": "fda5b275",
   "metadata": {},
   "outputs": [
    {
     "data": {
      "text/html": [
       "<div>\n",
       "<style scoped>\n",
       "    .dataframe tbody tr th:only-of-type {\n",
       "        vertical-align: middle;\n",
       "    }\n",
       "\n",
       "    .dataframe tbody tr th {\n",
       "        vertical-align: top;\n",
       "    }\n",
       "\n",
       "    .dataframe thead th {\n",
       "        text-align: right;\n",
       "    }\n",
       "</style>\n",
       "<table border=\"1\" class=\"dataframe\">\n",
       "  <thead>\n",
       "    <tr style=\"text-align: right;\">\n",
       "      <th></th>\n",
       "      <th>Missing Count</th>\n",
       "      <th>Percentage Missing</th>\n",
       "      <th>Column Type</th>\n",
       "    </tr>\n",
       "  </thead>\n",
       "  <tbody>\n",
       "    <tr>\n",
       "      <th>Cabin</th>\n",
       "      <td>327</td>\n",
       "      <td>78.229665</td>\n",
       "      <td>object</td>\n",
       "    </tr>\n",
       "    <tr>\n",
       "      <th>Age</th>\n",
       "      <td>86</td>\n",
       "      <td>20.574163</td>\n",
       "      <td>float64</td>\n",
       "    </tr>\n",
       "    <tr>\n",
       "      <th>Fare</th>\n",
       "      <td>1</td>\n",
       "      <td>0.239234</td>\n",
       "      <td>float64</td>\n",
       "    </tr>\n",
       "  </tbody>\n",
       "</table>\n",
       "</div>"
      ],
      "text/plain": [
       "       Missing Count  Percentage Missing Column Type\n",
       "Cabin            327           78.229665      object\n",
       "Age               86           20.574163     float64\n",
       "Fare               1            0.239234     float64"
      ]
     },
     "execution_count": 30,
     "metadata": {},
     "output_type": "execute_result"
    }
   ],
   "source": [
    "# find null counts, percentage of null values, and column type\n",
    "null_count = titanic_testing_data.isnull().sum()\n",
    "null_percentage = titanic_testing_data.isnull().sum() * 100 / len(titanic_testing_data)\n",
    "column_type = titanic_testing_data.dtypes\n",
    "\n",
    "# show null counts, percentage of null values, and column type for columns with more than one Null value\n",
    "null_summary = pd.concat([null_count, null_percentage, column_type], axis=1, keys=['Missing Count', 'Percentage Missing','Column Type'])\n",
    "null_summary_only_missing = null_summary[null_count != 0].sort_values('Percentage Missing',ascending=False)\n",
    "null_summary_only_missing"
   ]
  },
  {
   "cell_type": "markdown",
   "id": "b2ebc68c",
   "metadata": {},
   "source": [
    "Appropriately address the missing values in the testing dataframe.  Add the newly created variables as well to the testing dataframe."
   ]
  },
  {
   "cell_type": "code",
   "execution_count": 31,
   "id": "cc05abd2",
   "metadata": {},
   "outputs": [],
   "source": [
    "# Create a new dataframe called titanic_training_data_cleaned so we don't modify the originally imported data\n",
    "titanic_testing_data_cleaned = titanic_testing_data.copy(deep=True)\n",
    "\n",
    "# Create new cabin-related variables that will be more useful and cleaner than the original cabin variable\n",
    "titanic_testing_data_cleaned['Cabin_Data_Indicator'] = titanic_testing_data_cleaned['Cabin'].notna().astype(int)\n",
    "\n",
    "titanic_testing_data_cleaned['First_Cabin_Deck'] = titanic_testing_data_cleaned['Cabin'].astype(str).str[0]\n",
    "\n",
    "def conditions(s):\n",
    "    if (s['First_Cabin_Deck'] == \"A\"):\n",
    "        return 1\n",
    "    elif (s['First_Cabin_Deck'] == \"B\"):\n",
    "        return 2    \n",
    "    elif (s['First_Cabin_Deck'] == \"C\"):\n",
    "        return 3      \n",
    "    elif (s['First_Cabin_Deck'] == \"D\"):\n",
    "        return 4      \n",
    "    elif (s['First_Cabin_Deck'] == \"E\"):\n",
    "        return 5      \n",
    "    elif (s['First_Cabin_Deck'] == \"F\"):\n",
    "        return 6     \n",
    "    elif (s['First_Cabin_Deck'] == \"G\"):\n",
    "        return 7\n",
    "    elif (s['First_Cabin_Deck'] == \"T\"):\n",
    "        return 10 \n",
    "    elif (s['First_Cabin_Deck'] == \"n\"):\n",
    "        return np.nan     \n",
    "    else:\n",
    "        return np.nan\n",
    "\n",
    "titanic_testing_data_cleaned['Deck'] = titanic_testing_data_cleaned.apply(conditions, axis=1)\n",
    "\n",
    "# Drop the original Cabin variable since it has so many null values and since some passengers had more than one cabin\n",
    "# making the original variable difficult to work with\n",
    "titanic_testing_data_cleaned.drop(['Cabin', 'First_Cabin_Deck'],axis=1,inplace=True)\n",
    "\n",
    "# Apply Imputation to Fill In Null Values for Missing Data Values\n",
    "titanic_testing_data_cleaned.fillna(method='ffill', inplace=True)\n",
    "titanic_testing_data_cleaned.fillna(method='bfill', inplace=True)\n",
    "\n",
    "# Create a new variable indicating whether a passenger is a child\n",
    "titanic_testing_data_cleaned['Child_Indicator'] = titanic_testing_data_cleaned['Age'] <= 17\n",
    "titanic_testing_data_cleaned['Child_Indicator'] = titanic_testing_data_cleaned['Child_Indicator'].astype(int)\n",
    "\n"
   ]
  },
  {
   "cell_type": "markdown",
   "id": "ce713230",
   "metadata": {},
   "source": [
    "Examine whether the desired modifications to the testing dataframe applied correctly."
   ]
  },
  {
   "cell_type": "code",
   "execution_count": 32,
   "id": "9fd78d32",
   "metadata": {},
   "outputs": [
    {
     "data": {
      "text/html": [
       "<div>\n",
       "<style scoped>\n",
       "    .dataframe tbody tr th:only-of-type {\n",
       "        vertical-align: middle;\n",
       "    }\n",
       "\n",
       "    .dataframe tbody tr th {\n",
       "        vertical-align: top;\n",
       "    }\n",
       "\n",
       "    .dataframe thead th {\n",
       "        text-align: right;\n",
       "    }\n",
       "</style>\n",
       "<table border=\"1\" class=\"dataframe\">\n",
       "  <thead>\n",
       "    <tr style=\"text-align: right;\">\n",
       "      <th></th>\n",
       "      <th>PassengerId</th>\n",
       "      <th>Survived</th>\n",
       "      <th>Pclass</th>\n",
       "      <th>Name</th>\n",
       "      <th>Sex</th>\n",
       "      <th>Age</th>\n",
       "      <th>SibSp</th>\n",
       "      <th>Parch</th>\n",
       "      <th>Ticket</th>\n",
       "      <th>Fare</th>\n",
       "      <th>Embarked</th>\n",
       "      <th>Cabin_Data_Indicator</th>\n",
       "      <th>Deck</th>\n",
       "      <th>Child_Indicator</th>\n",
       "    </tr>\n",
       "  </thead>\n",
       "  <tbody>\n",
       "    <tr>\n",
       "      <th>0</th>\n",
       "      <td>1</td>\n",
       "      <td>0</td>\n",
       "      <td>3</td>\n",
       "      <td>Braund, Mr. Owen Harris</td>\n",
       "      <td>male</td>\n",
       "      <td>22.0</td>\n",
       "      <td>1</td>\n",
       "      <td>0</td>\n",
       "      <td>A/5 21171</td>\n",
       "      <td>7.2500</td>\n",
       "      <td>S</td>\n",
       "      <td>0</td>\n",
       "      <td>3.0</td>\n",
       "      <td>0</td>\n",
       "    </tr>\n",
       "    <tr>\n",
       "      <th>1</th>\n",
       "      <td>2</td>\n",
       "      <td>1</td>\n",
       "      <td>1</td>\n",
       "      <td>Cumings, Mrs. John Bradley (Florence Briggs Th...</td>\n",
       "      <td>female</td>\n",
       "      <td>38.0</td>\n",
       "      <td>1</td>\n",
       "      <td>0</td>\n",
       "      <td>PC 17599</td>\n",
       "      <td>71.2833</td>\n",
       "      <td>C</td>\n",
       "      <td>1</td>\n",
       "      <td>3.0</td>\n",
       "      <td>0</td>\n",
       "    </tr>\n",
       "    <tr>\n",
       "      <th>2</th>\n",
       "      <td>3</td>\n",
       "      <td>1</td>\n",
       "      <td>3</td>\n",
       "      <td>Heikkinen, Miss. Laina</td>\n",
       "      <td>female</td>\n",
       "      <td>26.0</td>\n",
       "      <td>0</td>\n",
       "      <td>0</td>\n",
       "      <td>STON/O2. 3101282</td>\n",
       "      <td>7.9250</td>\n",
       "      <td>S</td>\n",
       "      <td>0</td>\n",
       "      <td>3.0</td>\n",
       "      <td>0</td>\n",
       "    </tr>\n",
       "    <tr>\n",
       "      <th>3</th>\n",
       "      <td>4</td>\n",
       "      <td>1</td>\n",
       "      <td>1</td>\n",
       "      <td>Futrelle, Mrs. Jacques Heath (Lily May Peel)</td>\n",
       "      <td>female</td>\n",
       "      <td>35.0</td>\n",
       "      <td>1</td>\n",
       "      <td>0</td>\n",
       "      <td>113803</td>\n",
       "      <td>53.1000</td>\n",
       "      <td>S</td>\n",
       "      <td>1</td>\n",
       "      <td>3.0</td>\n",
       "      <td>0</td>\n",
       "    </tr>\n",
       "    <tr>\n",
       "      <th>4</th>\n",
       "      <td>5</td>\n",
       "      <td>0</td>\n",
       "      <td>3</td>\n",
       "      <td>Allen, Mr. William Henry</td>\n",
       "      <td>male</td>\n",
       "      <td>35.0</td>\n",
       "      <td>0</td>\n",
       "      <td>0</td>\n",
       "      <td>373450</td>\n",
       "      <td>8.0500</td>\n",
       "      <td>S</td>\n",
       "      <td>0</td>\n",
       "      <td>3.0</td>\n",
       "      <td>0</td>\n",
       "    </tr>\n",
       "    <tr>\n",
       "      <th>5</th>\n",
       "      <td>6</td>\n",
       "      <td>0</td>\n",
       "      <td>3</td>\n",
       "      <td>Moran, Mr. James</td>\n",
       "      <td>male</td>\n",
       "      <td>35.0</td>\n",
       "      <td>0</td>\n",
       "      <td>0</td>\n",
       "      <td>330877</td>\n",
       "      <td>8.4583</td>\n",
       "      <td>Q</td>\n",
       "      <td>0</td>\n",
       "      <td>3.0</td>\n",
       "      <td>0</td>\n",
       "    </tr>\n",
       "    <tr>\n",
       "      <th>6</th>\n",
       "      <td>7</td>\n",
       "      <td>0</td>\n",
       "      <td>1</td>\n",
       "      <td>McCarthy, Mr. Timothy J</td>\n",
       "      <td>male</td>\n",
       "      <td>54.0</td>\n",
       "      <td>0</td>\n",
       "      <td>0</td>\n",
       "      <td>17463</td>\n",
       "      <td>51.8625</td>\n",
       "      <td>S</td>\n",
       "      <td>1</td>\n",
       "      <td>5.0</td>\n",
       "      <td>0</td>\n",
       "    </tr>\n",
       "    <tr>\n",
       "      <th>7</th>\n",
       "      <td>8</td>\n",
       "      <td>0</td>\n",
       "      <td>3</td>\n",
       "      <td>Palsson, Master. Gosta Leonard</td>\n",
       "      <td>male</td>\n",
       "      <td>2.0</td>\n",
       "      <td>3</td>\n",
       "      <td>1</td>\n",
       "      <td>349909</td>\n",
       "      <td>21.0750</td>\n",
       "      <td>S</td>\n",
       "      <td>0</td>\n",
       "      <td>5.0</td>\n",
       "      <td>1</td>\n",
       "    </tr>\n",
       "    <tr>\n",
       "      <th>8</th>\n",
       "      <td>9</td>\n",
       "      <td>1</td>\n",
       "      <td>3</td>\n",
       "      <td>Johnson, Mrs. Oscar W (Elisabeth Vilhelmina Berg)</td>\n",
       "      <td>female</td>\n",
       "      <td>27.0</td>\n",
       "      <td>0</td>\n",
       "      <td>2</td>\n",
       "      <td>347742</td>\n",
       "      <td>11.1333</td>\n",
       "      <td>S</td>\n",
       "      <td>0</td>\n",
       "      <td>5.0</td>\n",
       "      <td>0</td>\n",
       "    </tr>\n",
       "    <tr>\n",
       "      <th>9</th>\n",
       "      <td>10</td>\n",
       "      <td>1</td>\n",
       "      <td>2</td>\n",
       "      <td>Nasser, Mrs. Nicholas (Adele Achem)</td>\n",
       "      <td>female</td>\n",
       "      <td>14.0</td>\n",
       "      <td>1</td>\n",
       "      <td>0</td>\n",
       "      <td>237736</td>\n",
       "      <td>30.0708</td>\n",
       "      <td>C</td>\n",
       "      <td>0</td>\n",
       "      <td>5.0</td>\n",
       "      <td>1</td>\n",
       "    </tr>\n",
       "    <tr>\n",
       "      <th>10</th>\n",
       "      <td>11</td>\n",
       "      <td>1</td>\n",
       "      <td>3</td>\n",
       "      <td>Sandstrom, Miss. Marguerite Rut</td>\n",
       "      <td>female</td>\n",
       "      <td>4.0</td>\n",
       "      <td>1</td>\n",
       "      <td>1</td>\n",
       "      <td>PP 9549</td>\n",
       "      <td>16.7000</td>\n",
       "      <td>S</td>\n",
       "      <td>1</td>\n",
       "      <td>7.0</td>\n",
       "      <td>1</td>\n",
       "    </tr>\n",
       "    <tr>\n",
       "      <th>11</th>\n",
       "      <td>12</td>\n",
       "      <td>1</td>\n",
       "      <td>1</td>\n",
       "      <td>Bonnell, Miss. Elizabeth</td>\n",
       "      <td>female</td>\n",
       "      <td>58.0</td>\n",
       "      <td>0</td>\n",
       "      <td>0</td>\n",
       "      <td>113783</td>\n",
       "      <td>26.5500</td>\n",
       "      <td>S</td>\n",
       "      <td>1</td>\n",
       "      <td>3.0</td>\n",
       "      <td>0</td>\n",
       "    </tr>\n",
       "    <tr>\n",
       "      <th>12</th>\n",
       "      <td>13</td>\n",
       "      <td>0</td>\n",
       "      <td>3</td>\n",
       "      <td>Saundercock, Mr. William Henry</td>\n",
       "      <td>male</td>\n",
       "      <td>20.0</td>\n",
       "      <td>0</td>\n",
       "      <td>0</td>\n",
       "      <td>A/5. 2151</td>\n",
       "      <td>8.0500</td>\n",
       "      <td>S</td>\n",
       "      <td>0</td>\n",
       "      <td>3.0</td>\n",
       "      <td>0</td>\n",
       "    </tr>\n",
       "    <tr>\n",
       "      <th>13</th>\n",
       "      <td>14</td>\n",
       "      <td>0</td>\n",
       "      <td>3</td>\n",
       "      <td>Andersson, Mr. Anders Johan</td>\n",
       "      <td>male</td>\n",
       "      <td>39.0</td>\n",
       "      <td>1</td>\n",
       "      <td>5</td>\n",
       "      <td>347082</td>\n",
       "      <td>31.2750</td>\n",
       "      <td>S</td>\n",
       "      <td>0</td>\n",
       "      <td>3.0</td>\n",
       "      <td>0</td>\n",
       "    </tr>\n",
       "    <tr>\n",
       "      <th>14</th>\n",
       "      <td>15</td>\n",
       "      <td>0</td>\n",
       "      <td>3</td>\n",
       "      <td>Vestrom, Miss. Hulda Amanda Adolfina</td>\n",
       "      <td>female</td>\n",
       "      <td>14.0</td>\n",
       "      <td>0</td>\n",
       "      <td>0</td>\n",
       "      <td>350406</td>\n",
       "      <td>7.8542</td>\n",
       "      <td>S</td>\n",
       "      <td>0</td>\n",
       "      <td>3.0</td>\n",
       "      <td>1</td>\n",
       "    </tr>\n",
       "    <tr>\n",
       "      <th>15</th>\n",
       "      <td>16</td>\n",
       "      <td>1</td>\n",
       "      <td>2</td>\n",
       "      <td>Hewlett, Mrs. (Mary D Kingcome)</td>\n",
       "      <td>female</td>\n",
       "      <td>55.0</td>\n",
       "      <td>0</td>\n",
       "      <td>0</td>\n",
       "      <td>248706</td>\n",
       "      <td>16.0000</td>\n",
       "      <td>S</td>\n",
       "      <td>0</td>\n",
       "      <td>3.0</td>\n",
       "      <td>0</td>\n",
       "    </tr>\n",
       "    <tr>\n",
       "      <th>16</th>\n",
       "      <td>17</td>\n",
       "      <td>0</td>\n",
       "      <td>3</td>\n",
       "      <td>Rice, Master. Eugene</td>\n",
       "      <td>male</td>\n",
       "      <td>2.0</td>\n",
       "      <td>4</td>\n",
       "      <td>1</td>\n",
       "      <td>382652</td>\n",
       "      <td>29.1250</td>\n",
       "      <td>Q</td>\n",
       "      <td>0</td>\n",
       "      <td>3.0</td>\n",
       "      <td>1</td>\n",
       "    </tr>\n",
       "    <tr>\n",
       "      <th>17</th>\n",
       "      <td>18</td>\n",
       "      <td>1</td>\n",
       "      <td>2</td>\n",
       "      <td>Williams, Mr. Charles Eugene</td>\n",
       "      <td>male</td>\n",
       "      <td>2.0</td>\n",
       "      <td>0</td>\n",
       "      <td>0</td>\n",
       "      <td>244373</td>\n",
       "      <td>13.0000</td>\n",
       "      <td>S</td>\n",
       "      <td>0</td>\n",
       "      <td>3.0</td>\n",
       "      <td>1</td>\n",
       "    </tr>\n",
       "    <tr>\n",
       "      <th>18</th>\n",
       "      <td>19</td>\n",
       "      <td>0</td>\n",
       "      <td>3</td>\n",
       "      <td>Vander Planke, Mrs. Julius (Emelia Maria Vande...</td>\n",
       "      <td>female</td>\n",
       "      <td>31.0</td>\n",
       "      <td>1</td>\n",
       "      <td>0</td>\n",
       "      <td>345763</td>\n",
       "      <td>18.0000</td>\n",
       "      <td>S</td>\n",
       "      <td>0</td>\n",
       "      <td>3.0</td>\n",
       "      <td>0</td>\n",
       "    </tr>\n",
       "    <tr>\n",
       "      <th>19</th>\n",
       "      <td>20</td>\n",
       "      <td>1</td>\n",
       "      <td>3</td>\n",
       "      <td>Masselmani, Mrs. Fatima</td>\n",
       "      <td>female</td>\n",
       "      <td>31.0</td>\n",
       "      <td>0</td>\n",
       "      <td>0</td>\n",
       "      <td>2649</td>\n",
       "      <td>7.2250</td>\n",
       "      <td>C</td>\n",
       "      <td>0</td>\n",
       "      <td>3.0</td>\n",
       "      <td>0</td>\n",
       "    </tr>\n",
       "  </tbody>\n",
       "</table>\n",
       "</div>"
      ],
      "text/plain": [
       "    PassengerId  Survived  Pclass  \\\n",
       "0             1         0       3   \n",
       "1             2         1       1   \n",
       "2             3         1       3   \n",
       "3             4         1       1   \n",
       "4             5         0       3   \n",
       "5             6         0       3   \n",
       "6             7         0       1   \n",
       "7             8         0       3   \n",
       "8             9         1       3   \n",
       "9            10         1       2   \n",
       "10           11         1       3   \n",
       "11           12         1       1   \n",
       "12           13         0       3   \n",
       "13           14         0       3   \n",
       "14           15         0       3   \n",
       "15           16         1       2   \n",
       "16           17         0       3   \n",
       "17           18         1       2   \n",
       "18           19         0       3   \n",
       "19           20         1       3   \n",
       "\n",
       "                                                 Name     Sex   Age  SibSp  \\\n",
       "0                             Braund, Mr. Owen Harris    male  22.0      1   \n",
       "1   Cumings, Mrs. John Bradley (Florence Briggs Th...  female  38.0      1   \n",
       "2                              Heikkinen, Miss. Laina  female  26.0      0   \n",
       "3        Futrelle, Mrs. Jacques Heath (Lily May Peel)  female  35.0      1   \n",
       "4                            Allen, Mr. William Henry    male  35.0      0   \n",
       "5                                    Moran, Mr. James    male  35.0      0   \n",
       "6                             McCarthy, Mr. Timothy J    male  54.0      0   \n",
       "7                      Palsson, Master. Gosta Leonard    male   2.0      3   \n",
       "8   Johnson, Mrs. Oscar W (Elisabeth Vilhelmina Berg)  female  27.0      0   \n",
       "9                 Nasser, Mrs. Nicholas (Adele Achem)  female  14.0      1   \n",
       "10                    Sandstrom, Miss. Marguerite Rut  female   4.0      1   \n",
       "11                           Bonnell, Miss. Elizabeth  female  58.0      0   \n",
       "12                     Saundercock, Mr. William Henry    male  20.0      0   \n",
       "13                        Andersson, Mr. Anders Johan    male  39.0      1   \n",
       "14               Vestrom, Miss. Hulda Amanda Adolfina  female  14.0      0   \n",
       "15                   Hewlett, Mrs. (Mary D Kingcome)   female  55.0      0   \n",
       "16                               Rice, Master. Eugene    male   2.0      4   \n",
       "17                       Williams, Mr. Charles Eugene    male   2.0      0   \n",
       "18  Vander Planke, Mrs. Julius (Emelia Maria Vande...  female  31.0      1   \n",
       "19                            Masselmani, Mrs. Fatima  female  31.0      0   \n",
       "\n",
       "    Parch            Ticket     Fare Embarked  Cabin_Data_Indicator  Deck  \\\n",
       "0       0         A/5 21171   7.2500        S                     0   3.0   \n",
       "1       0          PC 17599  71.2833        C                     1   3.0   \n",
       "2       0  STON/O2. 3101282   7.9250        S                     0   3.0   \n",
       "3       0            113803  53.1000        S                     1   3.0   \n",
       "4       0            373450   8.0500        S                     0   3.0   \n",
       "5       0            330877   8.4583        Q                     0   3.0   \n",
       "6       0             17463  51.8625        S                     1   5.0   \n",
       "7       1            349909  21.0750        S                     0   5.0   \n",
       "8       2            347742  11.1333        S                     0   5.0   \n",
       "9       0            237736  30.0708        C                     0   5.0   \n",
       "10      1           PP 9549  16.7000        S                     1   7.0   \n",
       "11      0            113783  26.5500        S                     1   3.0   \n",
       "12      0         A/5. 2151   8.0500        S                     0   3.0   \n",
       "13      5            347082  31.2750        S                     0   3.0   \n",
       "14      0            350406   7.8542        S                     0   3.0   \n",
       "15      0            248706  16.0000        S                     0   3.0   \n",
       "16      1            382652  29.1250        Q                     0   3.0   \n",
       "17      0            244373  13.0000        S                     0   3.0   \n",
       "18      0            345763  18.0000        S                     0   3.0   \n",
       "19      0              2649   7.2250        C                     0   3.0   \n",
       "\n",
       "    Child_Indicator  \n",
       "0                 0  \n",
       "1                 0  \n",
       "2                 0  \n",
       "3                 0  \n",
       "4                 0  \n",
       "5                 0  \n",
       "6                 0  \n",
       "7                 1  \n",
       "8                 0  \n",
       "9                 1  \n",
       "10                1  \n",
       "11                0  \n",
       "12                0  \n",
       "13                0  \n",
       "14                1  \n",
       "15                0  \n",
       "16                1  \n",
       "17                1  \n",
       "18                0  \n",
       "19                0  "
      ]
     },
     "execution_count": 32,
     "metadata": {},
     "output_type": "execute_result"
    },
    {
     "data": {
      "text/plain": [
       "(891, 14)"
      ]
     },
     "execution_count": 32,
     "metadata": {},
     "output_type": "execute_result"
    }
   ],
   "source": [
    "# show first five rows of the data\n",
    "titanic_training_data_cleaned.head(20)\n",
    "# show number of columns and rows\n",
    "titanic_training_data_cleaned.shape"
   ]
  },
  {
   "cell_type": "code",
   "execution_count": 33,
   "id": "bb144773",
   "metadata": {},
   "outputs": [
    {
     "data": {
      "text/html": [
       "<div>\n",
       "<style scoped>\n",
       "    .dataframe tbody tr th:only-of-type {\n",
       "        vertical-align: middle;\n",
       "    }\n",
       "\n",
       "    .dataframe tbody tr th {\n",
       "        vertical-align: top;\n",
       "    }\n",
       "\n",
       "    .dataframe thead th {\n",
       "        text-align: right;\n",
       "    }\n",
       "</style>\n",
       "<table border=\"1\" class=\"dataframe\">\n",
       "  <thead>\n",
       "    <tr style=\"text-align: right;\">\n",
       "      <th></th>\n",
       "      <th>Missing Count</th>\n",
       "      <th>Percentage Missing</th>\n",
       "      <th>Column Type</th>\n",
       "    </tr>\n",
       "  </thead>\n",
       "  <tbody>\n",
       "  </tbody>\n",
       "</table>\n",
       "</div>"
      ],
      "text/plain": [
       "Empty DataFrame\n",
       "Columns: [Missing Count, Percentage Missing, Column Type]\n",
       "Index: []"
      ]
     },
     "execution_count": 33,
     "metadata": {},
     "output_type": "execute_result"
    }
   ],
   "source": [
    "# find null counts, percentage of null values, and column type\n",
    "null_count = titanic_training_data_cleaned.isnull().sum()\n",
    "null_percentage = titanic_training_data_cleaned.isnull().sum() * 100 / len(titanic_training_data)\n",
    "column_type = titanic_training_data_cleaned.dtypes\n",
    "\n",
    "# show null counts, percentage of null values, and column type for columns with more than one Null value\n",
    "null_summary = pd.concat([null_count, null_percentage, column_type], axis=1, keys=['Missing Count', 'Percentage Missing','Column Type'])\n",
    "null_summary_only_missing = null_summary[null_count != 0].sort_values('Percentage Missing',ascending=False)\n",
    "null_summary_only_missing"
   ]
  },
  {
   "cell_type": "markdown",
   "id": "2540f35a",
   "metadata": {},
   "source": [
    "Conduct exploratory data analysis on the variables in the testing dataframe to confirm that all the values appear to be reasonable (to proactively address data value errors if needed)."
   ]
  },
  {
   "cell_type": "code",
   "execution_count": 34,
   "id": "52796f3f",
   "metadata": {},
   "outputs": [
    {
     "data": {
      "text/html": [
       "<div>\n",
       "<style scoped>\n",
       "    .dataframe tbody tr th:only-of-type {\n",
       "        vertical-align: middle;\n",
       "    }\n",
       "\n",
       "    .dataframe tbody tr th {\n",
       "        vertical-align: top;\n",
       "    }\n",
       "\n",
       "    .dataframe thead th {\n",
       "        text-align: right;\n",
       "    }\n",
       "</style>\n",
       "<table border=\"1\" class=\"dataframe\">\n",
       "  <thead>\n",
       "    <tr style=\"text-align: right;\">\n",
       "      <th></th>\n",
       "      <th>Age</th>\n",
       "      <th>Fare</th>\n",
       "      <th>SibSp</th>\n",
       "      <th>Parch</th>\n",
       "    </tr>\n",
       "  </thead>\n",
       "  <tbody>\n",
       "    <tr>\n",
       "      <th>count</th>\n",
       "      <td>418.000000</td>\n",
       "      <td>418.000000</td>\n",
       "      <td>418.000000</td>\n",
       "      <td>418.000000</td>\n",
       "    </tr>\n",
       "    <tr>\n",
       "      <th>mean</th>\n",
       "      <td>30.125000</td>\n",
       "      <td>35.560845</td>\n",
       "      <td>0.447368</td>\n",
       "      <td>0.392344</td>\n",
       "    </tr>\n",
       "    <tr>\n",
       "      <th>std</th>\n",
       "      <td>13.905601</td>\n",
       "      <td>55.856972</td>\n",
       "      <td>0.896760</td>\n",
       "      <td>0.981429</td>\n",
       "    </tr>\n",
       "    <tr>\n",
       "      <th>min</th>\n",
       "      <td>0.170000</td>\n",
       "      <td>0.000000</td>\n",
       "      <td>0.000000</td>\n",
       "      <td>0.000000</td>\n",
       "    </tr>\n",
       "    <tr>\n",
       "      <th>25%</th>\n",
       "      <td>22.000000</td>\n",
       "      <td>7.895800</td>\n",
       "      <td>0.000000</td>\n",
       "      <td>0.000000</td>\n",
       "    </tr>\n",
       "    <tr>\n",
       "      <th>50%</th>\n",
       "      <td>27.000000</td>\n",
       "      <td>14.454200</td>\n",
       "      <td>0.000000</td>\n",
       "      <td>0.000000</td>\n",
       "    </tr>\n",
       "    <tr>\n",
       "      <th>75%</th>\n",
       "      <td>39.000000</td>\n",
       "      <td>31.471875</td>\n",
       "      <td>1.000000</td>\n",
       "      <td>0.000000</td>\n",
       "    </tr>\n",
       "    <tr>\n",
       "      <th>max</th>\n",
       "      <td>76.000000</td>\n",
       "      <td>512.329200</td>\n",
       "      <td>8.000000</td>\n",
       "      <td>9.000000</td>\n",
       "    </tr>\n",
       "  </tbody>\n",
       "</table>\n",
       "</div>"
      ],
      "text/plain": [
       "              Age        Fare       SibSp       Parch\n",
       "count  418.000000  418.000000  418.000000  418.000000\n",
       "mean    30.125000   35.560845    0.447368    0.392344\n",
       "std     13.905601   55.856972    0.896760    0.981429\n",
       "min      0.170000    0.000000    0.000000    0.000000\n",
       "25%     22.000000    7.895800    0.000000    0.000000\n",
       "50%     27.000000   14.454200    0.000000    0.000000\n",
       "75%     39.000000   31.471875    1.000000    0.000000\n",
       "max     76.000000  512.329200    8.000000    9.000000"
      ]
     },
     "execution_count": 34,
     "metadata": {},
     "output_type": "execute_result"
    },
    {
     "data": {
      "text/plain": [
       "array([[<Axes: title={'center': 'Age'}>,\n",
       "        <Axes: title={'center': 'Fare'}>],\n",
       "       [<Axes: title={'center': 'SibSp'}>,\n",
       "        <Axes: title={'center': 'Parch'}>]], dtype=object)"
      ]
     },
     "execution_count": 34,
     "metadata": {},
     "output_type": "execute_result"
    },
    {
     "data": {
      "text/plain": [
       "<Axes: title={'center': 'Pclass'}>"
      ]
     },
     "execution_count": 34,
     "metadata": {},
     "output_type": "execute_result"
    },
    {
     "data": {
      "text/plain": [
       "<Axes: title={'center': 'Embarked'}>"
      ]
     },
     "execution_count": 34,
     "metadata": {},
     "output_type": "execute_result"
    },
    {
     "data": {
      "text/plain": [
       "<Axes: title={'center': 'Deck'}>"
      ]
     },
     "execution_count": 34,
     "metadata": {},
     "output_type": "execute_result"
    },
    {
     "data": {
      "text/plain": [
       "<Axes: title={'center': 'Sex'}>"
      ]
     },
     "execution_count": 34,
     "metadata": {},
     "output_type": "execute_result"
    },
    {
     "data": {
      "image/png": "[encoded data removed]",
      "text/plain": [
       "<Figure size 1080x720 with 4 Axes>"
      ]
     },
     "metadata": {},
     "output_type": "display_data"
    },
    {
     "data": {
      "image/png": "[encoded data removed]",
      "text/plain": [
       "<Figure size 1080x1080 with 4 Axes>"
      ]
     },
     "metadata": {},
     "output_type": "display_data"
    }
   ],
   "source": [
    "# Numeric Variable Visualizations\n",
    "titanic_testing_data_cleaned[numeric_variables].describe()\n",
    "\n",
    "titanic_testing_data_cleaned[numeric_variables].hist(edgecolor = 'black', \n",
    "                                             bins = 15, figsize = (15, 10),\n",
    "                                             layout = (2, 2), grid = False)\n",
    "\n",
    "\n",
    "    \n",
    "# Categorical Variable Visualizations\n",
    "fig, ax = plt.subplots(2, 2, figsize = (15, 15))\n",
    "for var, subplot in zip(categorical_variables, ax.flatten()):\n",
    "    titanic_testing_data_cleaned[var].value_counts().plot(kind = 'bar', ax = subplot, title = var)\n",
    "\n",
    "fig.tight_layout()"
   ]
  },
  {
   "cell_type": "code",
   "execution_count": 35,
   "id": "2b303e95",
   "metadata": {},
   "outputs": [
    {
     "data": {
      "text/plain": [
       "<seaborn.axisgrid.FacetGrid at 0x26e2bd7b5e0>"
      ]
     },
     "execution_count": 35,
     "metadata": {},
     "output_type": "execute_result"
    },
    {
     "data": {
      "text/plain": [
       "<seaborn.axisgrid.FacetGrid at 0x26e24bd5610>"
      ]
     },
     "execution_count": 35,
     "metadata": {},
     "output_type": "execute_result"
    },
    {
     "data": {
      "image/png": "[encoded data removed]",
      "text/plain": [
       "<Figure size 360x360 with 1 Axes>"
      ]
     },
     "metadata": {},
     "output_type": "display_data"
    },
    {
     "data": {
      "image/png": "[encoded data removed]",
      "text/plain": [
       "<Figure size 360x360 with 1 Axes>"
      ]
     },
     "metadata": {},
     "output_type": "display_data"
    }
   ],
   "source": [
    "# Indicator Variable Visualizations\n",
    "indicator_predictors = ['Cabin_Data_Indicator', 'Child_Indicator']\n",
    "\n",
    "\n",
    "for var, subplot in zip(indicator_predictors, ax.flatten()):\n",
    "    sns.catplot(x = var, kind = 'count', data = titanic_testing_data_cleaned)\n",
    "\n",
    "fig.tight_layout()"
   ]
  },
  {
   "cell_type": "markdown",
   "id": "3c71ab2b",
   "metadata": {},
   "source": [
    "### Apply Random Forest Model to Test Data"
   ]
  },
  {
   "cell_type": "markdown",
   "id": "3a3b8d4e",
   "metadata": {},
   "source": [
    "Conduct data cleaning exercises that are specific to the Random Forest Model"
   ]
  },
  {
   "cell_type": "code",
   "execution_count": 36,
   "id": "e1382be7",
   "metadata": {},
   "outputs": [],
   "source": [
    "# Create a copy of the testing dataset\n",
    "rf_testing_df = titanic_testing_data_cleaned.copy(deep=True)\n",
    "\n",
    "# Drop variables from the training dataset that we do not want to be included in the Random Forest model\n",
    "rf_testing_df.drop(['Name', 'Ticket'], axis=1, inplace=True)\n",
    "\n",
    "# Encode the sex and embarked variables\n",
    "rf_testing_df['Female_Indicator'] = np.where(rf_testing_df['Sex'] == 'female', 1, 0)\n",
    "rf_testing_df.drop(['Sex'], axis=1, inplace=True)\n",
    "\n",
    "rf_testing_df['Embarked_C_Indicator'] = np.where(rf_testing_df['Embarked'] == 'C', 1, 0)\n",
    "rf_testing_df['Embarked_Q_Indicator'] = np.where(rf_testing_df['Embarked'] == 'Q', 1, 0)\n",
    "rf_testing_df.drop(['Embarked'], axis=1, inplace=True)\n"
   ]
  },
  {
   "cell_type": "markdown",
   "id": "ea132518",
   "metadata": {},
   "source": [
    "Apply the Random Forest Model to the Test Dataframe"
   ]
  },
  {
   "cell_type": "code",
   "execution_count": 37,
   "id": "c33b92e8",
   "metadata": {},
   "outputs": [],
   "source": [
    "# Create a dataframe for predictor variables in the test dataframe for random forest model\n",
    "rf_testing_x = rf_testing_df.drop(columns=['PassengerId'])\n",
    "\n",
    "# Apply the Random Forest model to the test dataset\n",
    "y_test_predictions_rf = best_rf.predict(rf_testing_x)\n",
    "\n",
    "# Put the random forest predictions into a Pandas dataframe\n",
    "prediction_df_rf = pd.DataFrame(y_test_predictions_rf, columns=['Survived'])\n",
    "\n",
    "# Add the PassengerId column to the front of the random forest predictions dataframe\n",
    "prediction_df_rf.insert(0, 'PassengerId', rf_testing_df['PassengerId'])\n",
    "\n",
    "#output predictions to csv\n",
    "prediction_df_rf.to_csv('test_predictions_random_forest_v1.csv', index=False)\n"
   ]
  },
  {
   "cell_type": "markdown",
   "id": "072b4e07",
   "metadata": {},
   "source": [
    "Display the Kaggle Results from the Random Forest Model"
   ]
  },
  {
   "cell_type": "code",
   "execution_count": 38,
   "id": "fdddcb15",
   "metadata": {},
   "outputs": [
    {
     "data": {
      "text/plain": [
       "<Figure size 1080x1080 with 0 Axes>"
      ]
     },
     "execution_count": 38,
     "metadata": {},
     "output_type": "execute_result"
    },
    {
     "data": {
      "text/plain": [
       "<matplotlib.image.AxesImage at 0x26e2b6037f0>"
      ]
     },
     "execution_count": 38,
     "metadata": {},
     "output_type": "execute_result"
    },
    {
     "data": {
      "text/plain": [
       "(-0.5, 1496.5, 330.5, -0.5)"
      ]
     },
     "execution_count": 38,
     "metadata": {},
     "output_type": "execute_result"
    },
    {
     "data": {
      "image/png": "[encoded data removed]",
      "text/plain": [
       "<Figure size 1080x1080 with 1 Axes>"
      ]
     },
     "metadata": {},
     "output_type": "display_data"
    }
   ],
   "source": [
    "# Display the kaggle results associated with the Random Forest Model\n",
    "plt.figure(figsize = (15, 15))\n",
    "kaggle_results = plt.imread('Titanic_Random_Forest_Kaggle_Results_v1.jpg')\n",
    "plt.imshow(kaggle_results)\n",
    "plt.axis(\"off\")\n",
    "plt.show()"
   ]
  },
  {
   "cell_type": "markdown",
   "id": "0202d5d1",
   "metadata": {},
   "source": [
    "### Apply Boosting Models to Test Data"
   ]
  },
  {
   "cell_type": "code",
   "execution_count": 57,
   "id": "4d370cde",
   "metadata": {},
   "outputs": [],
   "source": [
    "# Create a dataframe for predictor variables in the test dataframe for random forest model\n",
    "boosting_testing_x = rf_testing_df.drop(columns=['PassengerId'])\n",
    "\n",
    "# Apply the Random Forest model to the test dataset\n",
    "y_test_predictions_gb = gb_tuned_model.predict(boosting_testing_x)\n",
    "\n",
    "# Put the random forest predictions into a Pandas dataframe\n",
    "prediction_df_gb = pd.DataFrame(y_test_predictions_gb, columns=['Survived'])\n",
    "\n",
    "# Add the PassengerId column to the front of the random forest predictions dataframe\n",
    "prediction_df_gb.insert(0, 'PassengerId', rf_testing_df['PassengerId'])\n",
    "\n",
    "#output predictions to csv\n",
    "#prediction_df_gb.to_csv('test_predictions_gb_v1.csv', index=False)\n"
   ]
  },
  {
   "cell_type": "code",
   "execution_count": 61,
   "id": "2eb79f29",
   "metadata": {},
   "outputs": [
    {
     "data": {
      "text/plain": [
       "<Figure size 1080x1080 with 0 Axes>"
      ]
     },
     "execution_count": 61,
     "metadata": {},
     "output_type": "execute_result"
    },
    {
     "data": {
      "text/plain": [
       "<matplotlib.image.AxesImage at 0x26e22c86eb0>"
      ]
     },
     "execution_count": 61,
     "metadata": {},
     "output_type": "execute_result"
    },
    {
     "data": {
      "text/plain": [
       "(-0.5, 860.5, 104.5, -0.5)"
      ]
     },
     "execution_count": 61,
     "metadata": {},
     "output_type": "execute_result"
    },
    {
     "data": {
      "image/png": "[encoded data removed]",
      "text/plain": [
       "<Figure size 1080x1080 with 1 Axes>"
      ]
     },
     "metadata": {},
     "output_type": "display_data"
    }
   ],
   "source": [
    "# Display the kaggle results associated with the Gradient Boosting Model\n",
    "plt.figure(figsize = (15, 15))\n",
    "kaggle_results = plt.imread('Titanic_GB_Kaggle_Results_v1.jpg')\n",
    "plt.imshow(kaggle_results)\n",
    "plt.axis(\"off\")\n",
    "plt.show()"
   ]
  },
  {
   "cell_type": "code",
   "execution_count": 66,
   "id": "de92a05d",
   "metadata": {},
   "outputs": [],
   "source": [
    "# Apply the Random Forest model to the test dataset\n",
    "y_test_predictions_xgb = xgb_tuned_model.predict(boosting_testing_x)\n",
    "\n",
    "# Put the random forest predictions into a Pandas dataframe\n",
    "prediction_df_xgb = pd.DataFrame(y_test_predictions_xgb, columns=['Survived'])\n",
    "\n",
    "# Add the PassengerId column to the front of the random forest predictions dataframe\n",
    "prediction_df_xgb.insert(0, 'PassengerId', rf_testing_df['PassengerId'])\n",
    "\n",
    "#output predictions to csv\n",
    "prediction_df_xgb.to_csv('test_predictions_xgb_v2.csv', index=False)\n"
   ]
  },
  {
   "cell_type": "code",
   "execution_count": 58,
   "id": "7bc2d1bb",
   "metadata": {},
   "outputs": [
    {
     "data": {
      "text/plain": [
       "<Figure size 1080x1080 with 0 Axes>"
      ]
     },
     "execution_count": 58,
     "metadata": {},
     "output_type": "execute_result"
    },
    {
     "data": {
      "text/plain": [
       "<matplotlib.image.AxesImage at 0x26e2ac277c0>"
      ]
     },
     "execution_count": 58,
     "metadata": {},
     "output_type": "execute_result"
    },
    {
     "data": {
      "text/plain": [
       "(-0.5, 839.5, 101.5, -0.5)"
      ]
     },
     "execution_count": 58,
     "metadata": {},
     "output_type": "execute_result"
    },
    {
     "data": {
      "image/png": "[encoded data removed]",
      "text/plain": [
       "<Figure size 1080x1080 with 1 Axes>"
      ]
     },
     "metadata": {},
     "output_type": "display_data"
    }
   ],
   "source": [
    "# Display the kaggle results associated with the Gradient Boosting Model\n",
    "plt.figure(figsize = (15, 15))\n",
    "kaggle_results = plt.imread('Titanic_XGB_Kaggle_Results_v1.jpg')\n",
    "plt.imshow(kaggle_results)\n",
    "plt.axis(\"off\")\n",
    "plt.show()"
   ]
  },
  {
   "cell_type": "markdown",
   "id": "4c769595",
   "metadata": {},
   "source": [
    "### Apply Extra Trees to Test Data\n"
   ]
  },
  {
   "cell_type": "code",
   "execution_count": null,
   "id": "e627dfbf",
   "metadata": {},
   "outputs": [],
   "source": []
  },
  {
   "cell_type": "code",
   "execution_count": null,
   "id": "587e32f9",
   "metadata": {},
   "outputs": [],
   "source": []
  },
  {
   "cell_type": "code",
   "execution_count": null,
   "id": "1e8cf483",
   "metadata": {},
   "outputs": [],
   "source": []
  },
  {
   "cell_type": "code",
   "execution_count": null,
   "id": "926af662",
   "metadata": {},
   "outputs": [],
   "source": []
  }
 ],
 "metadata": {
  "kernelspec": {
   "display_name": "Python 3 (ipykernel)",
   "language": "python",
   "name": "python3"
  },
  "language_info": {
   "codemirror_mode": {
    "name": "ipython",
    "version": 3
   },
   "file_extension": ".py",
   "mimetype": "text/x-python",
   "name": "python",
   "nbconvert_exporter": "python",
   "pygments_lexer": "ipython3",
   "version": "3.9.7"
  }
 },
 "nbformat": 4,
 "nbformat_minor": 5
}
